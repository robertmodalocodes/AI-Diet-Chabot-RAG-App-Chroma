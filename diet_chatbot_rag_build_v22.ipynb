{
 "cells": [
  {
   "cell_type": "markdown",
   "metadata": {},
   "source": [
    "# Diet Recommender Chatbot - Kaggle Notebook\n",
    "\n",
    "## Google Gen AI Intensive Course Capstone 2025Q1\n",
    "\n",
    "This project is a part of 5-day Gen AI Intensive Course with Google\n",
    "\n",
    "This project is a simple AI chatbot designed to provide general dietary recommendations based on user-inputted health conditions or diagnoses, acting like a friendly personal diet planner.\n",
    "\n",
    "It utilizes Google's Gemini model for conversational AI and response generation, combined with a Retrieval-Augmented Generation (RAG) approach. A basic knowledge base of dietary information is embedded and stored in a ChromaDB vector database for efficient retrieval.\n",
    "\n",
    "**Disclaimer:** This tool provides general information based on its knowledge base and AI generation. **It is NOT a substitute for professional medical or dietary advice.** Always consult with a qualified healthcare provider or registered dietitian for personalized recommendations specific to your health situation."
   ]
  },
  {
   "cell_type": "markdown",
   "metadata": {},
   "source": [
    "## How it Works\n",
    "\n",
    "1. **Knowledge Base:** Sample dietary information for different conditions is defined directly within this notebook\n",
    "2. **Embedding:** This knowledge base is processed, and each document is converted into a numerical vector using Google's `text-embedding-004` model.\n",
    "3. **Vector Store:** These embeddings and the corresponding text documents are stored in a ChromaDB collection (in-memory for simplicity).\n",
    "4. **User Query:** When the user provides their health condition, their query is also embedded.\n",
    "5. **Retrieval:** ChromaDB is queried to find the documents in the knowledge base whose embeddings are most similar (semantically) to the user's query embedding.\n",
    "6. **Generation:** The user's query and the retrieved documents (context) are fed into the Gemini (`gemini-2.0-flash`) model with a specific prompt instructing it to act as a meal planner and generate recommendations based _only_ on the provided context.\n",
    "7. **Interaction:** The user will go through the chat interface, state (like whether a recommendation has been given), and the follow-up conversation loop."
   ]
  },
  {
   "cell_type": "markdown",
   "metadata": {},
   "source": [
    "***Note that you can't \"Run All\" this notebook as it requires inputs for the tasks. Run the code cell by cell from top to bottom instead to get the notebook run properly***"
   ]
  },
  {
   "cell_type": "markdown",
   "metadata": {},
   "source": [
    "## 1. Setup and Installations\n",
    "\n",
    "Install libraries."
   ]
  },
  {
   "cell_type": "code",
   "execution_count": 1,
   "metadata": {
    "execution": {
     "iopub.execute_input": "2025-04-18T22:49:57.224940Z",
     "iopub.status.busy": "2025-04-18T22:49:57.224565Z",
     "iopub.status.idle": "2025-04-18T22:50:52.144014Z",
     "shell.execute_reply": "2025-04-18T22:50:52.142912Z",
     "shell.execute_reply.started": "2025-04-18T22:49:57.224915Z"
    },
    "trusted": true
   },
   "outputs": [
    {
     "name": "stdout",
     "output_type": "stream",
     "text": [
      "\u001b[2K   \u001b[90m━━━━━━━━━━━━━━━━━━━━━━━━━━━━━━━━━━━━━━━━\u001b[0m \u001b[32m144.7/144.7 kB\u001b[0m \u001b[31m4.2 MB/s\u001b[0m eta \u001b[36m0:00:00\u001b[0m\n",
      "\u001b[2K   \u001b[90m━━━━━━━━━━━━━━━━━━━━━━━━━━━━━━━━━━━━━━━━\u001b[0m \u001b[32m100.9/100.9 kB\u001b[0m \u001b[31m4.5 MB/s\u001b[0m eta \u001b[36m0:00:00\u001b[0m\n",
      "\u001b[?25h\u001b[31mERROR: pip's dependency resolver does not currently take into account all the packages that are installed. This behaviour is the source of the following dependency conflicts.\n",
      "jupyterlab-lsp 3.10.2 requires jupyterlab<4.0.0a0,>=3.1.0, which is not installed.\u001b[0m\u001b[31m\n",
      "\u001b[2K     \u001b[90m━━━━━━━━━━━━━━━━━━━━━━━━━━━━━━━━━━━━━━━━\u001b[0m \u001b[32m67.3/67.3 kB\u001b[0m \u001b[31m2.4 MB/s\u001b[0m eta \u001b[36m0:00:00\u001b[0m\n",
      "\u001b[?25h  Installing build dependencies ... \u001b[?25l\u001b[?25hdone\n",
      "  Getting requirements to build wheel ... \u001b[?25l\u001b[?25hdone\n",
      "  Preparing metadata (pyproject.toml) ... \u001b[?25l\u001b[?25hdone\n",
      "\u001b[2K   \u001b[90m━━━━━━━━━━━━━━━━━━━━━━━━━━━━━━━━━━━━━━━━\u001b[0m \u001b[32m155.4/155.4 kB\u001b[0m \u001b[31m4.6 MB/s\u001b[0m eta \u001b[36m0:00:00\u001b[0m\n",
      "\u001b[2K   \u001b[90m━━━━━━━━━━━━━━━━━━━━━━━━━━━━━━━━━━━━━━━━\u001b[0m \u001b[32m18.3/18.3 MB\u001b[0m \u001b[31m78.5 MB/s\u001b[0m eta \u001b[36m0:00:00\u001b[0m:00:01\u001b[0m00:01\u001b[0m\n",
      "\u001b[2K   \u001b[90m━━━━━━━━━━━━━━━━━━━━━━━━━━━━━━━━━━━━━━━━\u001b[0m \u001b[32m2.4/2.4 MB\u001b[0m \u001b[31m66.3 MB/s\u001b[0m eta \u001b[36m0:00:00\u001b[0m:00:01\u001b[0m\n",
      "\u001b[2K   \u001b[90m━━━━━━━━━━━━━━━━━━━━━━━━━━━━━━━━━━━━━━━━\u001b[0m \u001b[32m94.9/94.9 kB\u001b[0m \u001b[31m5.2 MB/s\u001b[0m eta \u001b[36m0:00:00\u001b[0m\n",
      "\u001b[2K   \u001b[90m━━━━━━━━━━━━━━━━━━━━━━━━━━━━━━━━━━━━━━━━\u001b[0m \u001b[32m284.2/284.2 kB\u001b[0m \u001b[31m14.3 MB/s\u001b[0m eta \u001b[36m0:00:00\u001b[0m\n",
      "\u001b[2K   \u001b[90m━━━━━━━━━━━━━━━━━━━━━━━━━━━━━━━━━━━━━━━━\u001b[0m \u001b[32m2.0/2.0 MB\u001b[0m \u001b[31m56.2 MB/s\u001b[0m eta \u001b[36m0:00:00\u001b[0m:00:01\u001b[0m\n",
      "\u001b[2K   \u001b[90m━━━━━━━━━━━━━━━━━━━━━━━━━━━━━━━━━━━━━━━━\u001b[0m \u001b[32m101.6/101.6 kB\u001b[0m \u001b[31m5.3 MB/s\u001b[0m eta \u001b[36m0:00:00\u001b[0m\n",
      "\u001b[2K   \u001b[90m━━━━━━━━━━━━━━━━━━━━━━━━━━━━━━━━━━━━━━━━\u001b[0m \u001b[32m16.0/16.0 MB\u001b[0m \u001b[31m76.8 MB/s\u001b[0m eta \u001b[36m0:00:00\u001b[0m:00:01\u001b[0m00:01\u001b[0m\n",
      "\u001b[2K   \u001b[90m━━━━━━━━━━━━━━━━━━━━━━━━━━━━━━━━━━━━━━━━\u001b[0m \u001b[32m52.5/52.5 kB\u001b[0m \u001b[31m2.4 MB/s\u001b[0m eta \u001b[36m0:00:00\u001b[0m\n",
      "\u001b[2K   \u001b[90m━━━━━━━━━━━━━━━━━━━━━━━━━━━━━━━━━━━━━━━━\u001b[0m \u001b[32m149.7/149.7 kB\u001b[0m \u001b[31m7.3 MB/s\u001b[0m eta \u001b[36m0:00:00\u001b[0m\n",
      "\u001b[2K   \u001b[90m━━━━━━━━━━━━━━━━━━━━━━━━━━━━━━━━━━━━━━━━\u001b[0m \u001b[32m64.0/64.0 kB\u001b[0m \u001b[31m2.9 MB/s\u001b[0m eta \u001b[36m0:00:00\u001b[0m\n",
      "\u001b[2K   \u001b[90m━━━━━━━━━━━━━━━━━━━━━━━━━━━━━━━━━━━━━━━━\u001b[0m \u001b[32m110.5/110.5 kB\u001b[0m \u001b[31m5.0 MB/s\u001b[0m eta \u001b[36m0:00:00\u001b[0m\n",
      "\u001b[2K   \u001b[90m━━━━━━━━━━━━━━━━━━━━━━━━━━━━━━━━━━━━━━━━\u001b[0m \u001b[32m89.1/89.1 kB\u001b[0m \u001b[31m4.6 MB/s\u001b[0m eta \u001b[36m0:00:00\u001b[0m\n",
      "\u001b[2K   \u001b[90m━━━━━━━━━━━━━━━━━━━━━━━━━━━━━━━━━━━━━━━━\u001b[0m \u001b[32m62.4/62.4 kB\u001b[0m \u001b[31m2.8 MB/s\u001b[0m eta \u001b[36m0:00:00\u001b[0m\n",
      "\u001b[2K   \u001b[90m━━━━━━━━━━━━━━━━━━━━━━━━━━━━━━━━━━━━━━━━\u001b[0m \u001b[32m459.8/459.8 kB\u001b[0m \u001b[31m20.3 MB/s\u001b[0m eta \u001b[36m0:00:00\u001b[0m\n",
      "\u001b[2K   \u001b[90m━━━━━━━━━━━━━━━━━━━━━━━━━━━━━━━━━━━━━━━━\u001b[0m \u001b[32m71.5/71.5 kB\u001b[0m \u001b[31m3.9 MB/s\u001b[0m eta \u001b[36m0:00:00\u001b[0m\n",
      "\u001b[2K   \u001b[90m━━━━━━━━━━━━━━━━━━━━━━━━━━━━━━━━━━━━━━━━\u001b[0m \u001b[32m4.0/4.0 MB\u001b[0m \u001b[31m71.9 MB/s\u001b[0m eta \u001b[36m0:00:00\u001b[0m:00:01\u001b[0m\n",
      "\u001b[2K   \u001b[90m━━━━━━━━━━━━━━━━━━━━━━━━━━━━━━━━━━━━━━━━\u001b[0m \u001b[32m454.8/454.8 kB\u001b[0m \u001b[31m19.8 MB/s\u001b[0m eta \u001b[36m0:00:00\u001b[0m\n",
      "\u001b[2K   \u001b[90m━━━━━━━━━━━━━━━━━━━━━━━━━━━━━━━━━━━━━━━━\u001b[0m \u001b[32m46.0/46.0 kB\u001b[0m \u001b[31m2.0 MB/s\u001b[0m eta \u001b[36m0:00:00\u001b[0m\n",
      "\u001b[2K   \u001b[90m━━━━━━━━━━━━━━━━━━━━━━━━━━━━━━━━━━━━━━━━\u001b[0m \u001b[32m86.8/86.8 kB\u001b[0m \u001b[31m4.7 MB/s\u001b[0m eta \u001b[36m0:00:00\u001b[0m\n",
      "\u001b[?25h  Building wheel for pypika (pyproject.toml) ... \u001b[?25l\u001b[?25hdone\n"
     ]
    }
   ],
   "source": [
    "!pip uninstall -qy jupyterlab\n",
    "!pip install -U -q \"google-genai==1.7.0\"\n",
    "!pip install -q -U google-generativeai chromadb pandas python-dotenv"
   ]
  },
  {
   "cell_type": "markdown",
   "metadata": {},
   "source": [
    "## 2. Import Libraries and Configure API Key"
   ]
  },
  {
   "cell_type": "markdown",
   "metadata": {},
   "source": [
    "### Import libraries"
   ]
  },
  {
   "cell_type": "code",
   "execution_count": 2,
   "metadata": {
    "execution": {
     "iopub.execute_input": "2025-04-18T22:51:51.894170Z",
     "iopub.status.busy": "2025-04-18T22:51:51.893823Z",
     "iopub.status.idle": "2025-04-18T22:51:56.500145Z",
     "shell.execute_reply": "2025-04-18T22:51:56.499070Z",
     "shell.execute_reply.started": "2025-04-18T22:51:51.894144Z"
    },
    "trusted": true
   },
   "outputs": [],
   "source": [
    "from google import generativeai as genai_default\n",
    "from google import genai\n",
    "from google.genai import types\n",
    "\n",
    "import numpy as np\n",
    "import pandas as pd\n",
    "import chromadb\n",
    "import pandas as pd\n",
    "import os\n",
    "import time\n",
    "from IPython.display import display, Markdown\n",
    "\n",
    "import os\n",
    "for dirname, _, filenames in os.walk('/kaggle/input'):\n",
    "    for filename in filenames:\n",
    "        print(os.path.join(dirname, filename))"
   ]
  },
  {
   "cell_type": "markdown",
   "metadata": {},
   "source": [
    "Set up a retry helper to \"Run all\" without worrying about per-minute quota."
   ]
  },
  {
   "cell_type": "code",
   "execution_count": 3,
   "metadata": {
    "execution": {
     "iopub.execute_input": "2025-04-18T22:52:26.254906Z",
     "iopub.status.busy": "2025-04-18T22:52:26.254501Z",
     "iopub.status.idle": "2025-04-18T22:52:26.264610Z",
     "shell.execute_reply": "2025-04-18T22:52:26.263318Z",
     "shell.execute_reply.started": "2025-04-18T22:52:26.254879Z"
    },
    "scrolled": true,
    "trusted": true
   },
   "outputs": [],
   "source": [
    "from google.api_core import retry\n",
    "\n",
    "is_retriable = lambda e: (isinstance(e, genai.errors.APIError) and e.code in {429, 503})\n",
    "\n",
    "genai.models.Models.generate_content = retry.Retry(\n",
    "    predicate=is_retriable)(genai.models.Models.generate_content)"
   ]
  },
  {
   "cell_type": "markdown",
   "metadata": {},
   "source": [
    "### Set up API key"
   ]
  },
  {
   "cell_type": "code",
   "execution_count": 4,
   "metadata": {
    "execution": {
     "iopub.execute_input": "2025-04-18T22:52:36.896636Z",
     "iopub.status.busy": "2025-04-18T22:52:36.896324Z",
     "iopub.status.idle": "2025-04-18T22:52:37.021802Z",
     "shell.execute_reply": "2025-04-18T22:52:37.020896Z",
     "shell.execute_reply.started": "2025-04-18T22:52:36.896612Z"
    },
    "trusted": true
   },
   "outputs": [
    {
     "name": "stdout",
     "output_type": "stream",
     "text": [
      "API Key configured successfully.\n"
     ]
    }
   ],
   "source": [
    "# Load API Key from Kaggle Secrets\n",
    "from kaggle_secrets import UserSecretsClient\n",
    "\n",
    "try:\n",
    "    user_secrets = UserSecretsClient()\n",
    "    GOOGLE_API_KEY = user_secrets.get_secret(\"GOOGLE_API_KEY\")\n",
    "    os.environ['GOOGLE_API_KEY'] = GOOGLE_API_KEY\n",
    "    genai_default.configure(api_key=GOOGLE_API_KEY)\n",
    "    print(\"API Key configured successfully.\")\n",
    "except Exception as e:\n",
    "    print(f\"Error configuring API Key from Kaggle Secrets: {e}\")\n",
    "    print(\"Please ensure you have added your GOOGLE_API_KEY as a secret in Kaggle.\")\n",
    "    \n",
    "    # Fallback for local testing (if not on Kaggle or secret fails)\n",
    "    # from dotenv import load_dotenv\n",
    "    \n",
    "    # load_dotenv()\n",
    "    \n",
    "    # GOOGLE_API_KEY = os.getenv(\"GOOGLE_API_KEY\")\n",
    "    # if GOOGLE_API_KEY:\n",
    "    #     genai.configure(api_key=GOOGLE_API_KEY)\n",
    "    #     print(\"API Key configured from .env file (local testing).\")\n",
    "    # else:\n",
    "    #     print(\"API Key not found. Please set it up either via Kaggle Secrets or a .env file.\")\n",
    "\n",
    "# Check if configuration succeeded\n",
    "if not os.getenv('GOOGLE_API_KEY'):\n",
    "     raise ValueError(\"API Key not configured. Stopping execution.\")"
   ]
  },
  {
   "cell_type": "markdown",
   "metadata": {},
   "source": [
    "## 3. Load Knowledge Base Data\n",
    "\n",
    "We'll import the sample diet documents. \n",
    "\n",
    "**Disclaimer!** Note that these sample documents were previously ***one-shot***-generated using the Gemini model itself so they might contain hallucinations resulting in reccomendation inaccuracies. Therefore the reccomendations and recipes are not to be taken seriously.\n",
    "\n",
    "Nevertheless, these samples (although limited) are supposed to serve as examples and are necessary to build the knowledge base for the RAG.\n",
    "\n",
    "In a real scenario, this data would come from a more robust source."
   ]
  },
  {
   "cell_type": "code",
   "execution_count": 5,
   "metadata": {
    "execution": {
     "iopub.execute_input": "2025-04-18T22:53:04.885432Z",
     "iopub.status.busy": "2025-04-18T22:53:04.885015Z",
     "iopub.status.idle": "2025-04-18T22:53:04.914475Z",
     "shell.execute_reply": "2025-04-18T22:53:04.910928Z",
     "shell.execute_reply.started": "2025-04-18T22:53:04.885403Z"
    },
    "trusted": true
   },
   "outputs": [],
   "source": [
    "# The documents are initially meant to be stored in a separate python file called \"diet_data.py\"\n",
    "# Assuming diet_data.py is in the same directory or accessible path\n",
    "# On Kaggle, we might need to upload diet_data.py as a utility script or copy its content here.\n",
    "\n",
    "# Let's define the data directly here for simplicity in the Kaggle notebook environment\n",
    "DIET_DOCUMENTS = [\n",
    "    {\n",
    "        \"id\": \"doc1\",\n",
    "        \"condition\": \"Back Pain / Inflammation\",\n",
    "        \"text\": \"\"\"\n",
    "        **Diet Recommendations for Back Pain & Inflammation:**\n",
    "\n",
    "        *Focus on anti-inflammatory foods.*\n",
    "\n",
    "        **Fruits:** Berries (blueberries, strawberries, raspberries), cherries, pineapple, oranges, apples. These are rich in antioxidants and vitamins.\n",
    "        **Vegetables:** Leafy greens (spinach, kale, Swiss chard), broccoli, bell peppers, carrots, sweet potatoes. Packed with vitamins, minerals, and fiber.\n",
    "        **Meats/Proteins:** Fatty fish (salmon, mackerel, sardines - high in Omega-3s), lean poultry (chicken breast, turkey), legumes (beans, lentils), tofu, nuts, and seeds (walnuts, flaxseeds, chia seeds). Limit red meat and processed meats.\n",
    "        **Other:** Olive oil, turmeric, ginger, green tea. Stay well-hydrated with water. Avoid sugary drinks, refined carbohydrates (white bread, pasta), fried foods, and excessive saturated fats.\n",
    "\n",
    "        **Simple Recipe Idea: Salmon with Roasted Veggies**\n",
    "        *   Toss chopped sweet potatoes, broccoli florets, and red bell pepper strips with olive oil, salt, pepper, and a pinch of turmeric. Roast at 400°F (200°C) for 20-25 minutes.\n",
    "        *   Season salmon fillets with salt, pepper, and lemon juice. Add to the baking sheet with veggies for the last 12-15 minutes of cooking, or until salmon is cooked through.\n",
    "        *   Serve immediately.\n",
    "        \"\"\"\n",
    "    },\n",
    "    {\n",
    "        \"id\": \"doc2\",\n",
    "        \"condition\": \"High Blood Pressure (Hypertension)\",\n",
    "        \"text\": \"\"\"\n",
    "        **Diet Recommendations for High Blood Pressure (Hypertension):**\n",
    "\n",
    "        *Focus on the DASH (Dietary Approaches to Stop Hypertension) diet principles. Emphasize low sodium.*\n",
    "\n",
    "        **Fruits:** Bananas (potassium), berries, apples, oranges, peaches, melons. Aim for 4-5 servings daily.\n",
    "        **Vegetables:** Leafy greens, broccoli, carrots, tomatoes, potatoes (especially sweet potatoes). Aim for 4-5 servings daily.\n",
    "        **Meats/Proteins:** Lean meats (skinless poultry, fish), beans, lentils, nuts, seeds. Limit red meat. Aim for 6 or fewer ounces per day.\n",
    "        **Grains:** Whole grains (oatmeal, brown rice, whole wheat bread/pasta). Aim for 6-8 servings daily.\n",
    "        **Dairy:** Low-fat or fat-free milk, yogurt, cheese. Aim for 2-3 servings daily.\n",
    "        **Other:** Limit sodium intake significantly (aim for under 1500mg/day if possible, definitely under 2300mg). Reduce added sugars, saturated fats, and trans fats. Use herbs and spices for flavor instead of salt. Stay hydrated.\n",
    "\n",
    "        **Simple Recipe Idea: Chicken and Veggie Stir-fry with Brown Rice**\n",
    "        *   Cook brown rice according to package directions.\n",
    "        *   Stir-fry sliced chicken breast in a little sesame or olive oil until cooked. Remove from wok/pan.\n",
    "        *   Add chopped vegetables (broccoli, bell peppers, carrots, snow peas) and stir-fry until tender-crisp.\n",
    "        *   Add chicken back to the pan. Toss with a low-sodium soy sauce (or coconut aminos), ginger, and garlic.\n",
    "        *   Serve over brown rice.\n",
    "        \"\"\"\n",
    "    },\n",
    "    {\n",
    "        \"id\": \"doc3\",\n",
    "        \"condition\": \"Type 2 Diabetes Management\",\n",
    "        \"text\": \"\"\"\n",
    "        **Diet Recommendations for Type 2 Diabetes Management:**\n",
    "\n",
    "        *Focus on controlling blood sugar levels through balanced meals, portion control, and carbohydrate awareness.*\n",
    "\n",
    "        **Fruits:** Berries, apples, pears, oranges, melon. Choose whole fruits over juices. Be mindful of portion sizes due to natural sugars.\n",
    "        **Vegetables:** Non-starchy vegetables are excellent (leafy greens, broccoli, cauliflower, bell peppers, green beans, zucchini). Include starchy vegetables (potatoes, corn, peas) in moderation and count them as carbs.\n",
    "        **Meats/Proteins:** Lean protein sources like fish, skinless poultry, beans, lentils, tofu, eggs, nuts in moderation. Helps with satiety and doesn't spike blood sugar significantly.\n",
    "        **Grains:** Whole grains (quinoa, brown rice, oats, whole wheat bread - check labels for fiber content). Portion control is key for carbohydrate counting.\n",
    "        **Dairy:** Low-fat or non-fat milk, yogurt (plain), cheese in moderation.\n",
    "        **Other:** Healthy fats (avocado, olive oil, nuts, seeds). Limit sugary drinks, sweets, processed foods, white bread/rice/pasta, and trans fats. Focus on fiber-rich foods. Consistent meal timing can help manage blood sugar. Stay hydrated with water.\n",
    "\n",
    "        **Simple Recipe Idea: Lentil Soup**\n",
    "        *   Sauté chopped onions, carrots, and celery in a pot with a little olive oil.\n",
    "        *   Add vegetable broth, rinsed lentils (brown or green), diced tomatoes (no salt added), and herbs like thyme or bay leaf.\n",
    "        *   Simmer until lentils are tender (about 30-40 minutes).\n",
    "        *   Season with black pepper. Add a splash of vinegar or lemon juice at the end if desired.\n",
    "        *   This soup is high in fiber and protein.\n",
    "        \"\"\"\n",
    "    },\n",
    "    {\n",
    "        \"id\": \"doc4\",\n",
    "        \"condition\": \"General Healthy Eating / Weight Management\",\n",
    "        \"text\": \"\"\"\n",
    "        **General Healthy Eating & Weight Management Tips:**\n",
    "\n",
    "        *Focus on whole, unprocessed foods, portion control, and balanced macronutrients.*\n",
    "\n",
    "        **Fruits:** Include a variety of colorful fruits daily. Good source of vitamins, minerals, and fiber.\n",
    "        **Vegetables:** Fill half your plate with non-starchy vegetables at meals (leafy greens, broccoli, peppers, zucchini, etc.). They are nutrient-dense and low in calories.\n",
    "        **Meats/Proteins:** Choose lean protein sources (chicken, turkey, fish, beans, lentils, tofu, eggs). Protein helps with satiety. Include protein with each meal.\n",
    "        **Grains:** Opt for whole grains (brown rice, quinoa, oats, whole wheat bread) over refined grains. They provide more fiber and nutrients. Be mindful of portion sizes.\n",
    "        **Fats:** Include healthy fats from sources like avocados, nuts, seeds, and olive oil. Limit saturated and trans fats found in fried foods, fatty meats, and processed snacks.\n",
    "        **Other:** Drink plenty of water throughout the day. Limit sugary drinks (soda, juice) and alcohol. Reduce intake of processed foods, fast food, and high-sugar snacks. Practice mindful eating - pay attention to hunger and fullness cues. Regular physical activity is also crucial for weight management and overall health.\n",
    "\n",
    "        **Simple Recipe Idea: Grilled Chicken Salad**\n",
    "        *   Grill or pan-sear a chicken breast. Let it rest, then slice or dice it.\n",
    "        *   Create a large salad base with mixed greens, spinach, cucumber, tomatoes, bell peppers, and red onion.\n",
    "        *   Add the cooked chicken.\n",
    "        *   Optional additions: chickpeas, a small amount of sliced avocado, or some sunflower seeds.\n",
    "        *   Dress with a light vinaigrette made from olive oil, lemon juice or vinegar, and herbs.\n",
    "        \"\"\"\n",
    "    },\n",
    "    {\n",
    "        \"id\": \"doc5\",\n",
    "        \"condition\": \"Iron Deficiency Anemia\",\n",
    "        \"text\": \"\"\"\n",
    "        **Diet Recommendations for Iron Deficiency Anemia:**\n",
    "       \n",
    "        *Focus on boosting iron intake and enhancing absorption.*\n",
    "       \n",
    "        **Fruits:** Citrus fruits (oranges, grapefruit), strawberries, bell peppers, tomatoes (Vitamin C sources eaten with iron-rich foods help absorption).\n",
    "        **Vegetables:** Spinach, kale, broccoli, sweet potatoes, peas.\n",
    "        **Meats/Proteins:** Lean red meat (beef, lamb), poultry (chicken, turkey - dark meat has more iron), fish (sardines, tuna), eggs, lentils, beans (kidney, chickpeas), tofu, pumpkin seeds.\n",
    "        **Grains:** Iron-fortified cereals, breads, and pasta; quinoa, oats.\n",
    "        **Other:** Cook in cast-iron skillets (can add small amounts of iron). Avoid drinking coffee or tea *with* iron-rich meals as tannins can inhibit absorption. Calcium supplements or high-calcium foods (like dairy) can also interfere, so time them separately.\n",
    "       \n",
    "        **Simple Recipe Idea: Lean Beef and Broccoli Stir-Fry**\n",
    "        *   Slice lean beef thinly. Stir-fry in a wok or large pan with a little sesame oil until browned. Remove beef.\n",
    "        *   Add broccoli florets and sliced red bell peppers (Vit C) to the pan, stir-fry until tender-crisp.\n",
    "        *   Return beef to the pan. Add a sauce made from low-sodium soy sauce, ginger, garlic, and a touch of orange juice (Vit C).\n",
    "        *   Serve immediately over brown rice or quinoa.\n",
    "        \"\"\"\n",
    "    },\n",
    "    {\n",
    "        \"id\": \"doc6\",\n",
    "        \"condition\": \"GERD / Acid Reflux Management\",\n",
    "        \"text\": \"\"\"\n",
    "        **Diet Recommendations for GERD / Acid Reflux Management:**\n",
    "        \n",
    "        *Focus on avoiding common trigger foods, eating smaller meals, and choosing low-fat options.*\n",
    "        \n",
    "        **Fruits:** Bananas, melons (cantaloupe, honeydew), pears, apples (non-citrus, in moderation).\n",
    "        **Vegetables:** Green beans, broccoli, asparagus, cauliflower, potatoes, cucumbers, leafy greens.\n",
    "        **Meats/Proteins:** Lean poultry (skinless chicken/turkey - baked, grilled, or poached), fish (baked, grilled, or poached), egg whites, tofu.\n",
    "        **Grains:** Oatmeal, whole-wheat bread, brown rice, couscous.\n",
    "        **Dairy:** Low-fat or skim milk, low-fat yogurt (plain), small amounts of low-fat cheese (if tolerated).\n",
    "        **Other:** Healthy fats in moderation (avocado, olive oil). Stay upright after eating, avoid late-night meals. Common triggers to avoid: Citrus fruits, tomatoes/tomato sauce, garlic, onions, spicy foods, fried/fatty foods, chocolate, mint, caffeine (coffee, tea, soda), alcohol, carbonated beverages.\n",
    "        \n",
    "        **Simple Recipe Idea: Baked Chicken Breast with Roasted Sweet Potatoes and Green Beans**\n",
    "        *   Toss cubed sweet potatoes and trimmed green beans with a small amount of olive oil, salt, and pepper (avoid garlic/onion powder if sensitive).\n",
    "        *   Roast on a baking sheet at 400°F (200°C) for about 20-25 minutes.\n",
    "        *   Season a skinless chicken breast with salt, pepper, and perhaps some mild herbs like thyme or rosemary. Add to the baking sheet for the last 15-20 minutes of cooking, until chicken is cooked through.\n",
    "        *   Serve warm.\n",
    "        \"\"\"\n",
    "    },\n",
    "    {\n",
    "        \"id\": \"doc7\",\n",
    "        \"condition\": \"Constipation Relief\",\n",
    "        \"text\": \"\"\"\n",
    "        **Diet Recommendations for Constipation Relief:**\n",
    "        \n",
    "        *Focus on significantly increasing dietary fiber intake from various sources and ensuring adequate hydration.*\n",
    "        \n",
    "        **Fruits:** Prunes, figs, berries (raspberries, blackberries), pears (with skin), apples (with skin), kiwi, oranges.\n",
    "        **Vegetables:** Broccoli, Brussels sprouts, carrots, leafy greens (spinach, kale), peas, artichokes.\n",
    "        **Meats/Proteins:** Legumes are excellent fiber sources: Beans (black, kidney, pinto), lentils, chickpeas. Other proteins are generally low in fiber.\n",
    "        **Grains:** Whole grains are key: Oatmeal (especially steel-cut or rolled), brown rice, quinoa, barley, whole-wheat bread and pasta, bran cereals.\n",
    "        **Other:** Nuts and seeds (chia seeds, flax seeds, almonds, walnuts - in moderation), plenty of water throughout the day (aim for 8+ glasses). Regular physical activity also helps stimulate bowel movements.\n",
    "        \n",
    "        **Simple Recipe Idea: High-Fiber Oatmeal with Berries and Seeds**\n",
    "        *   Cook rolled oats or steel-cut oats according to package directions using water or milk.\n",
    "        *   Once cooked, stir in 1-2 tablespoons of chia seeds or ground flax seeds.\n",
    "        *   Top with a generous handful of fresh berries (like raspberries or blueberries) and a small sprinkle of nuts if desired.\n",
    "        *   Consider adding sliced prunes for an extra boost.\n",
    "        \"\"\"\n",
    "    },\n",
    "    {\n",
    "        \"id\": \"doc8\",\n",
    "        \"condition\": \"Building Muscle / High Protein Diet Support\",\n",
    "        \"text\": \"\"\"\n",
    "        **Diet Recommendations for Building Muscle / High Protein Diet Support:**\n",
    "        \n",
    "        *Focus on adequate protein intake distributed throughout the day, paired with complex carbohydrates for energy and sufficient calories overall.*\n",
    "        \n",
    "        **Fruits:** All types are beneficial for vitamins, minerals, and antioxidants (e.g., bananas for potassium, berries for antioxidants).\n",
    "        **Vegetables:** Include a wide variety for micronutrients (e.g., spinach, broccoli, sweet potatoes).\n",
    "        **Meats/Proteins:** Prioritize lean sources: Chicken breast, turkey breast, lean beef (sirloin, tenderloin), fish (salmon, tuna, tilapia), eggs (whole eggs and egg whites), Greek yogurt, cottage cheese, tofu, edamame, beans, lentils.\n",
    "        **Grains:** Complex carbohydrates for sustained energy: Oats, quinoa, brown rice, whole-wheat pasta, whole-wheat bread, buckwheat.\n",
    "        **Dairy:** Greek yogurt, cottage cheese, milk (choose fat level based on overall calorie needs).\n",
    "        **Other:** Healthy fats (avocado, nuts, seeds, olive oil). Adequate hydration is crucial. Consider protein timing around workouts (e.g., a meal or snack with protein and carbs within a couple of hours post-exercise).\n",
    "        \n",
    "        **Simple Recipe Idea: Grilled Chicken Breast with Quinoa and Steamed Asparagus**\n",
    "        *   Cook quinoa according to package directions.\n",
    "        *   Grill or pan-sear a seasoned chicken breast until cooked through.\n",
    "        *   Steam or lightly sauté asparagus spears with a little olive oil, salt, and pepper.\n",
    "        *   Serve the chicken breast alongside a portion of quinoa and asparagus for a balanced, high-protein meal.\n",
    "        \"\"\"\n",
    "    },\n",
    "    {\n",
    "        \"id\": \"doc9\",\n",
    "        \"condition\": \"Low FODMAP Diet (Initial Phase Example for IBS Symptoms)\",\n",
    "        \"text\": \"\"\"\n",
    "        **Diet Recommendations for Low FODMAP Diet (Initial Phase for IBS Symptoms):**\n",
    "        \n",
    "        *Focus: Temporarily restrict high-FODMAP carbohydrates to identify potential IBS triggers. IMPORTANT: This diet is complex and meant to be short-term, followed by systematic reintroduction under professional guidance (doctor or registered dietitian specializing in IBS). This is just an example of *some* low-FODMAP foods.*\n",
    "        \n",
    "        **Fruits (Low FODMAP examples):** Unripe bananas, blueberries, cantaloupe, grapes, kiwi, lemon, lime, oranges, raspberries, strawberries (limit quantities as per Monash University app guidelines).\n",
    "        **Vegetables (Low FODMAP examples):** Bell peppers (any color), carrots, cucumber, eggplant, green beans, kale, lettuce, potatoes, spinach, tomatoes, zucchini.\n",
    "        **Meats/Proteins:** Plain cooked beef, chicken, fish, lamb, pork, shellfish, eggs, firm tofu.\n",
    "        **Grains:** Gluten-free bread/pasta (check ingredients for high-FODMAP additives), oats, quinoa, rice (white, brown), corn tortillas.\n",
    "        **Dairy:** Lactose-free milk/yogurt, hard cheeses (cheddar, mozzarella, parmesan), small amounts of butter.\n",
    "        **Other:** Maple syrup (pure), peanuts, pumpkin seeds, walnuts, olive oil. Avoid: High-FODMAP fruits (apples, pears, mangoes, watermelon), vegetables (onions, garlic, cauliflower, mushrooms, asparagus), wheat, rye, beans, lentils, high-lactose dairy, honey, high-fructose corn syrup, cashews, pistachios.\n",
    "        \n",
    "        **Simple Recipe Idea: Simple Baked Salmon with Rice and Steamed Carrots**\n",
    "        *   Cook white or brown rice according to package directions.\n",
    "        *   Season a salmon fillet with salt, pepper, lemon juice, and dill (check seasoning blends for onion/garlic).\n",
    "        *   Bake salmon at 400°F (200°C) for 12-15 minutes, or until cooked through.\n",
    "        *   Steam sliced carrots until tender.\n",
    "        *   Serve the salmon with rice and carrots. Drizzle with a little olive oil if desired.\n",
    "        \"\"\"\n",
    "    },\n",
    "    {\n",
    "        \"id\": \"doc10\",\n",
    "        \"condition\": \"Heart Health (Post-Event / Prevention)\",\n",
    "        \"text\": \"\"\"\n",
    "        **Diet Recommendations for Heart Health (Post-Event / Prevention):**\n",
    "        \n",
    "        *Focus on reducing saturated and trans fats, limiting sodium, increasing fiber (especially soluble fiber), and incorporating omega-3 fatty acids.*\n",
    "        **Fruits:** Berries (rich in antioxidants), apples (soluble fiber), oranges (potassium, vitamin C), bananas (potassium).\n",
    "        **Vegetables:** Leafy greens (spinach, kale), broccoli, carrots, tomatoes, bell peppers. Aim for a variety of colors.\n",
    "        **Meats/Proteins:** Fatty fish high in omega-3s (salmon, mackerel, herring, sardines) at least twice a week. Skinless poultry, legumes (beans, lentils, chickpeas), tofu, nuts (especially walnuts, almonds), seeds (flaxseeds, chia seeds, sunflower seeds).\n",
    "        **Grains:** Whole grains like oats (contain beta-glucan, a soluble fiber), quinoa, brown rice, barley, whole-wheat bread/pasta.\n",
    "        **Dairy:** Low-fat or fat-free milk, yogurt, and cheese.\n",
    "        **Other:** Use olive oil instead of butter or tropical oils. Limit sodium intake by avoiding processed foods, canned soups, salty snacks, and adding salt at the table (use herbs and spices instead). Limit added sugars, sugary drinks, red meat (especially fatty cuts), and processed meats. Avoid trans fats (often listed as 'partially hydrogenated oils').\n",
    "        \n",
    "        **Simple Recipe Idea: Mediterranean Chickpea Salad**\n",
    "        *   Rinse and drain a can of chickpeas (no salt added, if possible).\n",
    "        *   Chop cucumber, tomatoes, red bell pepper, and red onion (use sparingly if preferred). Add fresh parsley.\n",
    "        *   Combine chickpeas and vegetables in a bowl.\n",
    "        *   Make a dressing with olive oil, lemon juice, dried oregano, and black pepper (avoid adding salt).\n",
    "        *   Toss the salad with the dressing. Can be served on its own, over lettuce, or with a small portion of whole-wheat pita.\n",
    "        \"\"\"\n",
    "    }\n",
    "]"
   ]
  },
  {
   "cell_type": "code",
   "execution_count": 6,
   "metadata": {
    "execution": {
     "iopub.execute_input": "2025-04-18T22:53:19.183835Z",
     "iopub.status.busy": "2025-04-18T22:53:19.183314Z",
     "iopub.status.idle": "2025-04-18T22:53:19.193736Z",
     "shell.execute_reply": "2025-04-18T22:53:19.192744Z",
     "shell.execute_reply.started": "2025-04-18T22:53:19.183799Z"
    },
    "trusted": true
   },
   "outputs": [
    {
     "name": "stdout",
     "output_type": "stream",
     "text": [
      "Loaded 10 documents.\n"
     ]
    }
   ],
   "source": [
    "# Convert to DataFrame for easier handling\n",
    "df = pd.DataFrame(DIET_DOCUMENTS)\n",
    "\n",
    "print(f\"Loaded {len(df)} documents.\")"
   ]
  },
  {
   "cell_type": "code",
   "execution_count": 7,
   "metadata": {
    "execution": {
     "iopub.execute_input": "2025-04-18T22:53:34.152884Z",
     "iopub.status.busy": "2025-04-18T22:53:34.152531Z",
     "iopub.status.idle": "2025-04-18T22:53:34.179020Z",
     "shell.execute_reply": "2025-04-18T22:53:34.178067Z",
     "shell.execute_reply.started": "2025-04-18T22:53:34.152853Z"
    },
    "trusted": true
   },
   "outputs": [
    {
     "data": {
      "text/html": [
       "<div>\n",
       "<style scoped>\n",
       "    .dataframe tbody tr th:only-of-type {\n",
       "        vertical-align: middle;\n",
       "    }\n",
       "\n",
       "    .dataframe tbody tr th {\n",
       "        vertical-align: top;\n",
       "    }\n",
       "\n",
       "    .dataframe thead th {\n",
       "        text-align: right;\n",
       "    }\n",
       "</style>\n",
       "<table border=\"1\" class=\"dataframe\">\n",
       "  <thead>\n",
       "    <tr style=\"text-align: right;\">\n",
       "      <th></th>\n",
       "      <th>id</th>\n",
       "      <th>condition</th>\n",
       "      <th>text</th>\n",
       "    </tr>\n",
       "  </thead>\n",
       "  <tbody>\n",
       "    <tr>\n",
       "      <th>0</th>\n",
       "      <td>doc1</td>\n",
       "      <td>Back Pain / Inflammation</td>\n",
       "      <td>\\n        **Diet Recommendations for Back Pain...</td>\n",
       "    </tr>\n",
       "    <tr>\n",
       "      <th>1</th>\n",
       "      <td>doc2</td>\n",
       "      <td>High Blood Pressure (Hypertension)</td>\n",
       "      <td>\\n        **Diet Recommendations for High Bloo...</td>\n",
       "    </tr>\n",
       "    <tr>\n",
       "      <th>2</th>\n",
       "      <td>doc3</td>\n",
       "      <td>Type 2 Diabetes Management</td>\n",
       "      <td>\\n        **Diet Recommendations for Type 2 Di...</td>\n",
       "    </tr>\n",
       "    <tr>\n",
       "      <th>3</th>\n",
       "      <td>doc4</td>\n",
       "      <td>General Healthy Eating / Weight Management</td>\n",
       "      <td>\\n        **General Healthy Eating &amp; Weight Ma...</td>\n",
       "    </tr>\n",
       "    <tr>\n",
       "      <th>4</th>\n",
       "      <td>doc5</td>\n",
       "      <td>Iron Deficiency Anemia</td>\n",
       "      <td>\\n        **Diet Recommendations for Iron Defi...</td>\n",
       "    </tr>\n",
       "  </tbody>\n",
       "</table>\n",
       "</div>"
      ],
      "text/plain": [
       "     id                                   condition  \\\n",
       "0  doc1                    Back Pain / Inflammation   \n",
       "1  doc2          High Blood Pressure (Hypertension)   \n",
       "2  doc3                  Type 2 Diabetes Management   \n",
       "3  doc4  General Healthy Eating / Weight Management   \n",
       "4  doc5                      Iron Deficiency Anemia   \n",
       "\n",
       "                                                text  \n",
       "0  \\n        **Diet Recommendations for Back Pain...  \n",
       "1  \\n        **Diet Recommendations for High Bloo...  \n",
       "2  \\n        **Diet Recommendations for Type 2 Di...  \n",
       "3  \\n        **General Healthy Eating & Weight Ma...  \n",
       "4  \\n        **Diet Recommendations for Iron Defi...  "
      ]
     },
     "metadata": {},
     "output_type": "display_data"
    }
   ],
   "source": [
    "display(df.head())"
   ]
  },
  {
   "cell_type": "markdown",
   "metadata": {},
   "source": [
    "## 4. Initialize models (Embedding and Generative)\n",
    "\n",
    "We need two models: one for creating text embeddings and one for generating responses (Gemini)."
   ]
  },
  {
   "cell_type": "markdown",
   "metadata": {},
   "source": [
    "List of available models."
   ]
  },
  {
   "cell_type": "code",
   "execution_count": 8,
   "metadata": {
    "execution": {
     "iopub.execute_input": "2025-04-18T22:53:52.938379Z",
     "iopub.status.busy": "2025-04-18T22:53:52.938101Z",
     "iopub.status.idle": "2025-04-18T22:53:52.943438Z",
     "shell.execute_reply": "2025-04-18T22:53:52.942223Z",
     "shell.execute_reply.started": "2025-04-18T22:53:52.938350Z"
    },
    "trusted": true
   },
   "outputs": [
    {
     "name": "stdout",
     "output_type": "stream",
     "text": [
      "list_files\n",
      "list_models\n",
      "list_operations\n",
      "list_tuned_models\n"
     ]
    }
   ],
   "source": [
    "for method in dir(genai_default):\n",
    "    if \"list\" in method:\n",
    "        print(method)"
   ]
  },
  {
   "cell_type": "code",
   "execution_count": 18,
   "metadata": {
    "execution": {
     "iopub.execute_input": "2025-04-18T22:59:52.544856Z",
     "iopub.status.busy": "2025-04-18T22:59:52.544530Z",
     "iopub.status.idle": "2025-04-18T22:59:52.777277Z",
     "shell.execute_reply": "2025-04-18T22:59:52.776341Z",
     "shell.execute_reply.started": "2025-04-18T22:59:52.544832Z"
    },
    "trusted": true
   },
   "outputs": [
    {
     "name": "stdout",
     "output_type": "stream",
     "text": [
      "models/chat-bison-001\n",
      "models/text-bison-001\n",
      "models/embedding-gecko-001\n",
      "models/gemini-1.0-pro-vision-latest\n",
      "models/gemini-pro-vision\n",
      "models/gemini-1.5-pro-latest\n",
      "models/gemini-1.5-pro-001\n",
      "models/gemini-1.5-pro-002\n",
      "models/gemini-1.5-pro\n",
      "models/gemini-1.5-flash-latest\n",
      "models/gemini-1.5-flash-001\n",
      "models/gemini-1.5-flash-001-tuning\n",
      "models/gemini-1.5-flash\n",
      "models/gemini-1.5-flash-002\n",
      "models/gemini-1.5-flash-8b\n",
      "models/gemini-1.5-flash-8b-001\n",
      "models/gemini-1.5-flash-8b-latest\n",
      "models/gemini-1.5-flash-8b-exp-0827\n",
      "models/gemini-1.5-flash-8b-exp-0924\n",
      "models/gemini-2.5-pro-exp-03-25\n",
      "models/gemini-2.5-pro-preview-03-25\n",
      "models/gemini-2.5-flash-preview-04-17\n",
      "models/gemini-2.0-flash-exp\n",
      "models/gemini-2.0-flash\n",
      "models/gemini-2.0-flash-001\n",
      "models/gemini-2.0-flash-exp-image-generation\n",
      "models/gemini-2.0-flash-lite-001\n",
      "models/gemini-2.0-flash-lite\n",
      "models/gemini-2.0-flash-lite-preview-02-05\n",
      "models/gemini-2.0-flash-lite-preview\n",
      "models/gemini-2.0-pro-exp\n",
      "models/gemini-2.0-pro-exp-02-05\n",
      "models/gemini-exp-1206\n",
      "models/gemini-2.0-flash-thinking-exp-01-21\n",
      "models/gemini-2.0-flash-thinking-exp\n",
      "models/gemini-2.0-flash-thinking-exp-1219\n",
      "models/learnlm-1.5-pro-experimental\n",
      "models/learnlm-2.0-flash-experimental\n",
      "models/gemma-3-1b-it\n",
      "models/gemma-3-4b-it\n",
      "models/gemma-3-12b-it\n",
      "models/gemma-3-27b-it\n",
      "models/embedding-001\n",
      "models/text-embedding-004\n",
      "models/gemini-embedding-exp-03-07\n",
      "models/gemini-embedding-exp\n",
      "models/aqa\n",
      "models/imagen-3.0-generate-002\n",
      "models/gemini-2.0-flash-live-001\n"
     ]
    }
   ],
   "source": [
    "for model in genai_default.list_models():\n",
    "    print(model.name)"
   ]
  },
  {
   "cell_type": "markdown",
   "metadata": {},
   "source": [
    "The list above shows all the available Large Language Models (LLM) from Google. This time we will use `text-embedding-004` for text embedding and `gemini-2.0-flash` for generation task. "
   ]
  },
  {
   "cell_type": "code",
   "execution_count": 10,
   "metadata": {
    "execution": {
     "iopub.execute_input": "2025-04-18T22:55:29.558291Z",
     "iopub.status.busy": "2025-04-18T22:55:29.557517Z",
     "iopub.status.idle": "2025-04-18T22:55:29.563833Z",
     "shell.execute_reply": "2025-04-18T22:55:29.562556Z",
     "shell.execute_reply.started": "2025-04-18T22:55:29.558261Z"
    },
    "trusted": true
   },
   "outputs": [
    {
     "name": "stdout",
     "output_type": "stream",
     "text": [
      "Models initialized:\n",
      "  Embedding Model: models/text-embedding-004\n",
      "  Generative Model: models/gemini-2.0-flash\n"
     ]
    }
   ],
   "source": [
    "# --- Model Initialization ---\n",
    "# Using the free embedding model from Google AI\n",
    "embedding_model = genai_default.GenerativeModel('models/text-embedding-004')\n",
    "\n",
    "# Using Gemini Flash model for generation\n",
    "generative_model = genai_default.GenerativeModel('gemini-2.0-flash')\n",
    "\n",
    "print(\"Models initialized:\")\n",
    "print(f\"  Embedding Model: {embedding_model.model_name}\")\n",
    "print(f\"  Generative Model: {generative_model.model_name}\")"
   ]
  },
  {
   "cell_type": "markdown",
   "metadata": {},
   "source": [
    "## 5. Create Text Embeddings\n",
    "\n",
    "Define a function to embed text using the initialized embedding model. We'll handle potential API errors and rate limits."
   ]
  },
  {
   "cell_type": "code",
   "execution_count": 11,
   "metadata": {
    "execution": {
     "iopub.execute_input": "2025-04-18T22:55:46.037835Z",
     "iopub.status.busy": "2025-04-18T22:55:46.037500Z",
     "iopub.status.idle": "2025-04-18T22:55:46.043770Z",
     "shell.execute_reply": "2025-04-18T22:55:46.042771Z",
     "shell.execute_reply.started": "2025-04-18T22:55:46.037812Z"
    },
    "trusted": true
   },
   "outputs": [],
   "source": [
    "# --- Embedding Function ---\n",
    "def embed_text(text, task_type=\"retrieval_document\"):\n",
    "    \"\"\"Embeds text using the Google AI embedding model.\"\"\"\n",
    "    try:\n",
    "        # Note: Task type can be 'retrieval_query', 'retrieval_document', 'semantic_similarity', etc.\n",
    "        embedding = genai_default.embed_content(model=embedding_model.model_name,\n",
    "                                        content=text,\n",
    "                                        task_type=task_type)\n",
    "        return embedding['embedding']\n",
    "    except Exception as e:\n",
    "        print(f\"Error embedding text: {text[:50]}... Error: {e}\")\n",
    "        # Implement retry logic if needed, especially for rate limits\n",
    "        # time.sleep(1) # Simple backoff\n",
    "        return None # Return None if embedding fails"
   ]
  },
  {
   "cell_type": "markdown",
   "metadata": {},
   "source": [
    "## 6. Set up Vector Database (ChromaDB)\n",
    "\n",
    "We'll use ChromaDB as an in-memory vector store. We'll embed our diet documents and store them."
   ]
  },
  {
   "cell_type": "code",
   "execution_count": 12,
   "metadata": {
    "execution": {
     "iopub.execute_input": "2025-04-18T22:55:53.796448Z",
     "iopub.status.busy": "2025-04-18T22:55:53.796158Z",
     "iopub.status.idle": "2025-04-18T22:55:58.329182Z",
     "shell.execute_reply": "2025-04-18T22:55:58.328194Z",
     "shell.execute_reply.started": "2025-04-18T22:55:53.796425Z"
    },
    "trusted": true
   },
   "outputs": [
    {
     "name": "stdout",
     "output_type": "stream",
     "text": [
      "Collection 'diet_recommendations' does not exist, creating new one.\n",
      "Collection 'diet_recommendations' created.\n",
      "Embedding documents and adding to ChromaDB...\n",
      "Successfully added 10 documents to the collection.\n"
     ]
    }
   ],
   "source": [
    "# --- ChromaDB Setup ---\n",
    "# Using an in-memory client for simplicity in Kaggle\n",
    "client = chromadb.Client()\n",
    "\n",
    "# Create a collection (like a table in a relational database)\n",
    "DB_COLLECTION_NAME = \"diet_recommendations\"\n",
    "\n",
    "try:\n",
    "    # Check if collection exists, delete if it does (for clean runs in notebook)\n",
    "    client.delete_collection(name=DB_COLLECTION_NAME)\n",
    "    print(f\"Existing collection '{DB_COLLECTION_NAME}' deleted.\")\n",
    "except Exception:\n",
    "    print(f\"Collection '{DB_COLLECTION_NAME}' does not exist, creating new one.\")\n",
    "    pass # Collection doesn't exist, no need to delete\n",
    "\n",
    "# Using cosine distance as it's often good for semantic similarity\n",
    "db_collection = client.create_collection(name=DB_COLLECTION_NAME, metadata={\"hnsw:space\": \"cosine\"})\n",
    "print(f\"Collection '{DB_COLLECTION_NAME}' created.\")\n",
    "\n",
    "# --- Embed and Store Documents ---\n",
    "print(\"Embedding documents and adding to ChromaDB...\")\n",
    "doc_embeddings = []\n",
    "doc_ids = []\n",
    "doc_texts = []\n",
    "doc_metadatas = []\n",
    "\n",
    "for index, row in df.iterrows():\n",
    "    text_to_embed = f\"Condition: {row['condition']}\\nDetails: {row['text']}\" # Combine condition and text for embedding\n",
    "    embedding = embed_text(text_to_embed)\n",
    "    if embedding:\n",
    "        doc_embeddings.append(embedding)\n",
    "        doc_ids.append(row['id'])\n",
    "        doc_texts.append(row['text']) # Store the original text for retrieval context\n",
    "        doc_metadatas.append({\"condition\": row['condition']}) # Store condition as metadata\n",
    "    else:\n",
    "        print(f\"Skipping document id {row['id']} due to embedding error.\")\n",
    "    # Add a small delay to avoid hitting potential rate limits if embedding many docs\n",
    "    time.sleep(0.2)\n",
    "\n",
    "if doc_embeddings:\n",
    "    db_collection.add(\n",
    "        embeddings=doc_embeddings,\n",
    "        documents=doc_texts, # Store the main text content\n",
    "        metadatas=doc_metadatas, # Store associated metadata\n",
    "        ids=doc_ids\n",
    "    )\n",
    "    print(f\"Successfully added {db_collection.count()} documents to the collection.\")\n",
    "else:\n",
    "    print(\"No documents were successfully embedded and added.\")"
   ]
  },
  {
   "cell_type": "markdown",
   "metadata": {},
   "source": [
    "Confirm that n documents were inserted by looking at the database."
   ]
  },
  {
   "cell_type": "code",
   "execution_count": 13,
   "metadata": {
    "execution": {
     "iopub.execute_input": "2025-04-18T22:56:14.961275Z",
     "iopub.status.busy": "2025-04-18T22:56:14.960974Z",
     "iopub.status.idle": "2025-04-18T22:56:14.971916Z",
     "shell.execute_reply": "2025-04-18T22:56:14.970768Z",
     "shell.execute_reply.started": "2025-04-18T22:56:14.961253Z"
    },
    "trusted": true
   },
   "outputs": [
    {
     "data": {
      "text/plain": [
       "10"
      ]
     },
     "execution_count": 13,
     "metadata": {},
     "output_type": "execute_result"
    }
   ],
   "source": [
    "db_collection.count()"
   ]
  },
  {
   "cell_type": "markdown",
   "metadata": {},
   "source": [
    "See that 10 documents were added to the vector database\n",
    "\n",
    "Now, we can take a look at instances of the database"
   ]
  },
  {
   "cell_type": "code",
   "execution_count": 15,
   "metadata": {
    "execution": {
     "iopub.execute_input": "2025-04-18T22:56:39.190360Z",
     "iopub.status.busy": "2025-04-18T22:56:39.189285Z",
     "iopub.status.idle": "2025-04-18T22:56:39.198233Z",
     "shell.execute_reply": "2025-04-18T22:56:39.197368Z",
     "shell.execute_reply.started": "2025-04-18T22:56:39.190322Z"
    },
    "trusted": true
   },
   "outputs": [
    {
     "data": {
      "text/plain": [
       "{'ids': ['doc1', 'doc2'],\n",
       " 'embeddings': array([[ 0.02243436, -0.00111806, -0.03931806, ...,  0.00143484,\n",
       "          0.00118781, -0.00637942],\n",
       "        [ 0.0159103 , -0.0198628 , -0.04006037, ...,  0.01907527,\n",
       "          0.01703797, -0.03533568]]),\n",
       " 'documents': ['\\n        **Diet Recommendations for Back Pain & Inflammation:**\\n\\n        *Focus on anti-inflammatory foods.*\\n\\n        **Fruits:** Berries (blueberries, strawberries, raspberries), cherries, pineapple, oranges, apples. These are rich in antioxidants and vitamins.\\n        **Vegetables:** Leafy greens (spinach, kale, Swiss chard), broccoli, bell peppers, carrots, sweet potatoes. Packed with vitamins, minerals, and fiber.\\n        **Meats/Proteins:** Fatty fish (salmon, mackerel, sardines - high in Omega-3s), lean poultry (chicken breast, turkey), legumes (beans, lentils), tofu, nuts, and seeds (walnuts, flaxseeds, chia seeds). Limit red meat and processed meats.\\n        **Other:** Olive oil, turmeric, ginger, green tea. Stay well-hydrated with water. Avoid sugary drinks, refined carbohydrates (white bread, pasta), fried foods, and excessive saturated fats.\\n\\n        **Simple Recipe Idea: Salmon with Roasted Veggies**\\n        *   Toss chopped sweet potatoes, broccoli florets, and red bell pepper strips with olive oil, salt, pepper, and a pinch of turmeric. Roast at 400°F (200°C) for 20-25 minutes.\\n        *   Season salmon fillets with salt, pepper, and lemon juice. Add to the baking sheet with veggies for the last 12-15 minutes of cooking, or until salmon is cooked through.\\n        *   Serve immediately.\\n        ',\n",
       "  '\\n        **Diet Recommendations for High Blood Pressure (Hypertension):**\\n\\n        *Focus on the DASH (Dietary Approaches to Stop Hypertension) diet principles. Emphasize low sodium.*\\n\\n        **Fruits:** Bananas (potassium), berries, apples, oranges, peaches, melons. Aim for 4-5 servings daily.\\n        **Vegetables:** Leafy greens, broccoli, carrots, tomatoes, potatoes (especially sweet potatoes). Aim for 4-5 servings daily.\\n        **Meats/Proteins:** Lean meats (skinless poultry, fish), beans, lentils, nuts, seeds. Limit red meat. Aim for 6 or fewer ounces per day.\\n        **Grains:** Whole grains (oatmeal, brown rice, whole wheat bread/pasta). Aim for 6-8 servings daily.\\n        **Dairy:** Low-fat or fat-free milk, yogurt, cheese. Aim for 2-3 servings daily.\\n        **Other:** Limit sodium intake significantly (aim for under 1500mg/day if possible, definitely under 2300mg). Reduce added sugars, saturated fats, and trans fats. Use herbs and spices for flavor instead of salt. Stay hydrated.\\n\\n        **Simple Recipe Idea: Chicken and Veggie Stir-fry with Brown Rice**\\n        *   Cook brown rice according to package directions.\\n        *   Stir-fry sliced chicken breast in a little sesame or olive oil until cooked. Remove from wok/pan.\\n        *   Add chopped vegetables (broccoli, bell peppers, carrots, snow peas) and stir-fry until tender-crisp.\\n        *   Add chicken back to the pan. Toss with a low-sodium soy sauce (or coconut aminos), ginger, and garlic.\\n        *   Serve over brown rice.\\n        '],\n",
       " 'uris': None,\n",
       " 'included': ['metadatas', 'documents', 'embeddings'],\n",
       " 'data': None,\n",
       " 'metadatas': [{'condition': 'Back Pain / Inflammation'},\n",
       "  {'condition': 'High Blood Pressure (Hypertension)'}]}"
      ]
     },
     "execution_count": 15,
     "metadata": {},
     "output_type": "execute_result"
    }
   ],
   "source": [
    "db_collection.peek(2)"
   ]
  },
  {
   "cell_type": "markdown",
   "metadata": {},
   "source": [
    "## 7. Retrieval Function\n",
    "\n",
    "Create a function to retrieve relevant documents from the vector database based on a user's query."
   ]
  },
  {
   "cell_type": "code",
   "execution_count": 19,
   "metadata": {
    "execution": {
     "iopub.execute_input": "2025-04-18T23:04:51.392741Z",
     "iopub.status.busy": "2025-04-18T23:04:51.392407Z",
     "iopub.status.idle": "2025-04-18T23:04:51.399571Z",
     "shell.execute_reply": "2025-04-18T23:04:51.398400Z",
     "shell.execute_reply.started": "2025-04-18T23:04:51.392718Z"
    },
    "trusted": true
   },
   "outputs": [],
   "source": [
    "# --- Retrieval Function ---\n",
    "def retrieve_relevant_documents(query, n_results=2):\n",
    "    \"\"\"Retrieves relevant documents from ChromaDB based on the query.\"\"\"\n",
    "    if not query:\n",
    "        return []\n",
    "\n",
    "    query_embedding = embed_text(query, task_type=\"retrieval_query\")\n",
    "\n",
    "    if query_embedding is None:\n",
    "        print(\"Failed to embed query.\")\n",
    "        return []\n",
    "\n",
    "    try:\n",
    "        results = db_collection.query(\n",
    "            query_embeddings=[query_embedding],\n",
    "            n_results=n_results,\n",
    "            include=['documents', 'metadatas', 'distances'] # Include distances for potential filtering/ranking\n",
    "        )\n",
    "        # print(f\"ChromaDB Results: {results}\") # Debug print\n",
    "        # Extracting documents - results['documents'] is a list containing one list of results\n",
    "        retrieved_docs = results.get('documents', [[]])[0]\n",
    "        return retrieved_docs\n",
    "    except Exception as e:\n",
    "        print(f\"Error querying ChromaDB: {e}\")\n",
    "        return []"
   ]
  },
  {
   "cell_type": "markdown",
   "metadata": {},
   "source": [
    "Retrieval function is set. We can test run it to find relevant documents"
   ]
  },
  {
   "cell_type": "code",
   "execution_count": 21,
   "metadata": {
    "execution": {
     "iopub.execute_input": "2025-04-18T23:05:03.847354Z",
     "iopub.status.busy": "2025-04-18T23:05:03.847053Z",
     "iopub.status.idle": "2025-04-18T23:05:04.068071Z",
     "shell.execute_reply": "2025-04-18T23:05:04.067110Z",
     "shell.execute_reply.started": "2025-04-18T23:05:03.847332Z"
    },
    "trusted": true
   },
   "outputs": [
    {
     "name": "stdout",
     "output_type": "stream",
     "text": [
      "\n",
      "Documents relevant to 'I want to build muscle':\n",
      "--- Doc 1 ---\n"
     ]
    },
    {
     "data": {
      "text/markdown": [
       "\n",
       "        **Diet Recommendations for Building Muscle / High Protein Diet Support:**\n",
       "        \n",
       "        *Focus on adequate protein intake distributed throughout the day, paired with complex carbohydrates for energy and sufficient calories overall.*\n",
       "        \n",
       "        **Fruits:** All types are beneficial for vitamins, minerals, and antioxidants (e.g., bananas for potassium, berries for antioxidants).\n",
       "        **Vegetables:** Include a wide variety for micronutrients (e.g., spinach, broccoli, sweet potat..."
      ],
      "text/plain": [
       "<IPython.core.display.Markdown object>"
      ]
     },
     "metadata": {},
     "output_type": "display_data"
    },
    {
     "name": "stdout",
     "output_type": "stream",
     "text": [
      "--- Doc 2 ---\n"
     ]
    },
    {
     "data": {
      "text/markdown": [
       "\n",
       "        **General Healthy Eating & Weight Management Tips:**\n",
       "\n",
       "        *Focus on whole, unprocessed foods, portion control, and balanced macronutrients.*\n",
       "\n",
       "        **Fruits:** Include a variety of colorful fruits daily. Good source of vitamins, minerals, and fiber.\n",
       "        **Vegetables:** Fill half your plate with non-starchy vegetables at meals (leafy greens, broccoli, peppers, zucchini, etc.). They are nutrient-dense and low in calories.\n",
       "        **Meats/Proteins:** Choose lean protein sources (..."
      ],
      "text/plain": [
       "<IPython.core.display.Markdown object>"
      ]
     },
     "metadata": {},
     "output_type": "display_data"
    }
   ],
   "source": [
    "# Test retrieval\n",
    "test_query = \"I want to build muscle\"\n",
    "\n",
    "# Call the retrieval function\n",
    "relevant_docs = retrieve_relevant_documents(test_query)\n",
    "print(f\"\\nDocuments relevant to '{test_query}':\")\n",
    "\n",
    "for i, doc in enumerate(relevant_docs):\n",
    "     print(f\"--- Doc {i+1} ---\")\n",
    "     display(Markdown(doc[:500] + \"...\")) # Display snippet"
   ]
  },
  {
   "cell_type": "markdown",
   "metadata": {},
   "source": [
    "See that the function is doing what it supposed to. \n",
    "\n",
    "After identifying a relevant text segment during the retrieval step, the next step involves crafting a generation prompt to produce a final response using the Gemini API. While this example is only limited to a single retrieved passage (due to the small dataset), in real-world applications, particularly when working with extensive datasets this process typically require retrieving multiple passages. The Gemini model will then assess which segments are pertinent to the query. This process accommodates occasional irrelevant retrievals, as the generation step automatically filters out unrelated content during the answer build-up."
   ]
  },
  {
   "cell_type": "markdown",
   "metadata": {},
   "source": [
    "## 8. Response Generation Function\n",
    "\n",
    "This function takes the user's query and the retrieved documents, constructs a prompt for Gemini, and generates the diet recommendation response."
   ]
  },
  {
   "cell_type": "code",
   "execution_count": 22,
   "metadata": {
    "execution": {
     "iopub.execute_input": "2025-04-18T23:05:17.577943Z",
     "iopub.status.busy": "2025-04-18T23:05:17.577168Z",
     "iopub.status.idle": "2025-04-18T23:05:17.584421Z",
     "shell.execute_reply": "2025-04-18T23:05:17.583456Z",
     "shell.execute_reply.started": "2025-04-18T23:05:17.577917Z"
    },
    "trusted": true
   },
   "outputs": [],
   "source": [
    "# --- Response Generation Function ---\n",
    "def generate_response(user_problem, retrieved_docs):\n",
    "    \"\"\"Generates a diet recommendation response using Gemini and retrieved context.\"\"\"\n",
    "    if not user_problem:\n",
    "        return \"Please tell me what health condition you'd like diet recommendations for.\"\n",
    "\n",
    "    context = \"\\n\\n---\\n\\n\".join(retrieved_docs) if retrieved_docs else \"No specific context found.\"\n",
    "\n",
    "    prompt = f\"\"\"You are a friendly and helpful AI assistant acting like a personal diet planner. Your goal is to provide diet recommendations based *only* on the provided context information.\n",
    "\n",
    "    **User's Problem:** \"{user_problem}\"\n",
    "\n",
    "    **Context Information:**\n",
    "    ```\n",
    "    {context}\n",
    "    ```\n",
    "\n",
    "    **Instructions:**\n",
    "    1. Carefully review the context information related to the user's problem.\n",
    "    2. If relevant context is found, synthesize the information to provide clear diet recommendations. List specific suggestions for:\n",
    "        * Fruits\n",
    "        * Vegetables\n",
    "        * Meats/Proteins\n",
    "        * Other relevant foods/tips\n",
    "        * Suggest 1-2 simple recipe ideas mentioned or inspired by the context.\n",
    "    3. If no relevant context is found or the context doesn't match the user's problem well, state that you couldn't find specific information for that exact condition in your current knowledge base, but you can offer general healthy eating tips if they like. Do NOT invent recommendations if context is missing.\n",
    "    4. Keep the tone friendly, empathetic, and encouraging, like a family meal planner.\n",
    "    5. **Crucially:** After providing the recommendations (or stating you couldn't find specific info), ALWAYS end your response by asking: \"Do you want to discuss further details about your problem? (yes/no)\"\n",
    "\n",
    "    **Your Response:**\n",
    "    \"\"\"\n",
    "\n",
    "    # print(\"--- Sending Prompt to Gemini ---\") # Debug\n",
    "    # print(prompt) # Debug\n",
    "    # print(\"-------------------------------\") # Debug\n",
    "\n",
    "    try:\n",
    "        response = generative_model.generate_content(prompt)\n",
    "        # print(\"--- Gemini Raw Response ---\") # Debug\n",
    "        # print(response) # Debug\n",
    "        # print(\"--------------------------\") # Debug\n",
    "        return response.text\n",
    "    except Exception as e:\n",
    "        print(f\"Error generating response from Gemini: {e}\")\n",
    "        # Check for specific errors like blocked content if applicable\n",
    "        # print(f\"Candidate: {response.candidates}\")\n",
    "        return \"Sorry, I encountered an error while generating the response. Please try again.\""
   ]
  },
  {
   "cell_type": "markdown",
   "metadata": {},
   "source": [
    "The function is all set. Now here's the interesting part. We will try to interact with the model"
   ]
  },
  {
   "cell_type": "markdown",
   "metadata": {},
   "source": [
    "## 9. Main Chat Interaction Loop\n",
    "\n",
    "This loop handles the conversation flow: getting the initial problem, providing recommendations, and handling follow-up discussion."
   ]
  },
  {
   "cell_type": "code",
   "execution_count": 23,
   "metadata": {
    "execution": {
     "iopub.execute_input": "2025-04-18T23:05:35.149971Z",
     "iopub.status.busy": "2025-04-18T23:05:35.149650Z",
     "iopub.status.idle": "2025-04-18T23:16:47.255049Z",
     "shell.execute_reply": "2025-04-18T23:16:47.253996Z",
     "shell.execute_reply.started": "2025-04-18T23:05:35.149951Z"
    },
    "trusted": true
   },
   "outputs": [
    {
     "name": "stdout",
     "output_type": "stream",
     "text": [
      "AI Diet Reccomender: Hi there! I'm your friendly meal planning assistant.\n",
      "AI Diet Reccomender: I can help suggest some foods based on health conditions.\n"
     ]
    },
    {
     "name": "stdout",
     "output_type": "stream",
     "text": [
      "AI Diet Reccomender: What's your problem or health condition? (e.g., 'back pain', 'high blood pressure')\n",
      "User:  My blood pressure is currently high, bro\n"
     ]
    },
    {
     "data": {
      "text/markdown": [
       "**AI Diet Reccomender:**\n",
       "Hey bro! I'm sorry to hear about your high blood pressure, but I'm here to help with some diet recommendations! Based on the information I have, focusing on the DASH diet principles with low sodium will be beneficial. Here's what I suggest:\n",
       "\n",
       "*   **Fruits:** Load up on bananas (for potassium), berries, apples, oranges, peaches, and melons. Aim for 4-5 servings each day.\n",
       "*   **Vegetables:** Go for leafy greens, broccoli, carrots, tomatoes, and potatoes, especially sweet potatoes. Try to get 4-5 servings daily.\n",
       "*   **Meats/Proteins:** Choose lean meats like skinless poultry and fish. Beans, lentils, nuts, and seeds are also great choices. Limit red meat to less than 6 ounces a day.\n",
       "*   **Grains:** Opt for whole grains like oatmeal, brown rice, and whole wheat bread/pasta. Aim for 6-8 servings daily.\n",
       "*   **Dairy:** Stick to low-fat or fat-free milk, yogurt, and cheese. Try to get 2-3 servings each day.\n",
       "*   **Other:** This is important – limit your sodium intake significantly, aiming for under 1500mg a day if you can, but definitely under 2300mg. Cut back on added sugars, saturated fats, and trans fats. Use herbs and spices to flavor your food instead of salt. And don't forget to stay hydrated!\n",
       "\n",
       "Here's a simple recipe idea to get you started:\n",
       "\n",
       "**Chicken and Veggie Stir-fry with Brown Rice**\n",
       "\n",
       "*   Cook brown rice according to package directions.\n",
       "*   Stir-fry sliced chicken breast in a little sesame or olive oil until cooked. Remove from wok/pan.\n",
       "*   Add chopped vegetables (broccoli, bell peppers, carrots, snow peas) and stir-fry until tender-crisp.\n",
       "*   Add chicken back to the pan. Toss with a low-sodium soy sauce (or coconut aminos), ginger, and garlic.\n",
       "*   Serve over brown rice.\n",
       "\n",
       "Do you want to discuss further details about your problem? (yes/no)\n"
      ],
      "text/plain": [
       "<IPython.core.display.Markdown object>"
      ]
     },
     "metadata": {},
     "output_type": "display_data"
    },
    {
     "name": "stdout",
     "output_type": "stream",
     "text": [
      "User (yes/no):  yes\n",
      "AI Diet Reccomender: Okay, what else is on your mind regarding this? Or what details would you like to discuss?\n",
      "User:  But I want to build muscle as well, bro\n"
     ]
    },
    {
     "data": {
      "text/markdown": [
       "**AI Diet Reccomender:**\n",
       "Alright, bro! I hear you. High blood pressure *and* wanting to build muscle – that's a solid goal! It definitely adds a layer of complexity, but it's totally achievable.\n",
       "\n",
       "Here's the thing: we need to be smart about how we approach this. Building muscle often involves increased protein intake and potentially more sodium depending on your food choices and workout intensity. Both of those can impact blood pressure.\n",
       "\n",
       "So, here's the plan:\n",
       "\n",
       "*   **Prioritize Lean Protein Sources:** Think chicken breast, fish (salmon is great!), lean beef, turkey, and plant-based options like beans, lentils, tofu, and edamame. These are lower in saturated fat and can help you hit your protein goals without negatively impacting your blood pressure as much as, say, a super fatty cut of steak.\n",
       "*   **Watch the Sodium:** Pay close attention to sodium content in your protein sources (especially processed meats like deli slices). Season your food with herbs and spices instead of relying heavily on salt.\n",
       "*   **Don't Neglect the Potassium:** Potassium helps counter the effects of sodium. Load up on potassium-rich foods like bananas, sweet potatoes, spinach, and avocados. They're also great sources of energy for your workouts.\n",
       "*   **Hydrate Properly:** Staying well-hydrated is crucial for both blood pressure and muscle growth. Aim for plenty of water throughout the day.\n",
       "*   **Resistance Training is Key (but carefully!)**: Resistance training is fantastic for building muscle. However, remember to breathe properly during your sets. Holding your breath can spike your blood pressure. Work with a reasonable weight and prioritize proper form. It may also be worth discussing resistance training with your doctor to make sure you're cleared to continue/begin safely.\n",
       "*   **Monitor your Blood Pressure:** Keep tabs on your blood pressure to see how your diet and training are affecting it. This will help you make adjustments as needed.\n",
       "\n",
       "We can definitely dive deeper into specific meal plans and workout strategies that consider both your blood pressure and muscle-building goals. We could talk about timing your meals, choosing the right supplements (if any), and finding low-sodium protein powders if you use them. Remember to also consult with your doctor and a registered dietician or certified personal trainer for personalized advice! They can help you create a safe and effective plan based on your individual needs and medical history.\n",
       "\n",
       "Do you want to continue discussing? (yes/no)\n"
      ],
      "text/plain": [
       "<IPython.core.display.Markdown object>"
      ]
     },
     "metadata": {},
     "output_type": "display_data"
    },
    {
     "name": "stdout",
     "output_type": "stream",
     "text": [
      "User (yes/no):  In general though, I just want to eat healthy\n"
     ]
    },
    {
     "name": "stdout",
     "output_type": "stream",
     "text": [
      "AI Diet Reccomender: Sorry, I didn't quite catch that. Please type 'yes' to continue or 'no' to stop.\n"
     ]
    },
    {
     "name": "stdout",
     "output_type": "stream",
     "text": [
      "User (yes/no):  yes\n",
      "AI Diet Reccomender: Okay, what else is on your mind regarding this? Or what details would you like to discuss?\n",
      "User:  I just want to eat healthy in general\n"
     ]
    },
    {
     "data": {
      "text/markdown": [
       "**AI Diet Reccomender:**\n",
       "Okay, I understand. You want to focus on eating healthy in general, and that's a fantastic goal, especially considering your high blood pressure! Eating healthy can definitely have a positive impact on managing blood pressure and improving your overall well-being.\n",
       "\n",
       "Since you want to eat healthy in general, let's broaden our focus a bit. Besides limiting sodium and increasing potassium (which are great for blood pressure), we can think about a balanced diet that includes plenty of fruits, vegetables, whole grains, lean protein, and healthy fats.\n",
       "\n",
       "Here are some general tips for healthy eating, keeping your blood pressure in mind:\n",
       "\n",
       "*   **Focus on Whole Foods:** Base your diet around foods that are as close to their natural state as possible. Think fresh fruits and vegetables, whole grains like brown rice and quinoa, and lean proteins like chicken breast or fish.\n",
       "*   **Read Food Labels Carefully:** Pay attention to serving sizes, calories, fat, sodium, and added sugars. This will help you make informed choices and avoid hidden sources of sodium.\n",
       "*   **Cook at Home More Often:** This gives you more control over ingredients and portion sizes. Restaurant meals are often higher in sodium, fat, and calories.\n",
       "*   **Hydrate Well:** Drink plenty of water throughout the day. Sometimes thirst can be mistaken for hunger.\n",
       "*   **Portion Control:** Be mindful of how much you're eating at each meal. Using smaller plates can help.\n",
       "*   **Limit Processed Foods:** These are often high in sodium, unhealthy fats, and added sugars.\n",
       "\n",
       "Remember, small changes can make a big difference over time. Don't feel like you have to overhaul your entire diet overnight. Start with one or two goals and gradually incorporate more healthy habits.\n",
       "\n",
       "Do you want to continue discussing? (yes/no)\n"
      ],
      "text/plain": [
       "<IPython.core.display.Markdown object>"
      ]
     },
     "metadata": {},
     "output_type": "display_data"
    },
    {
     "name": "stdout",
     "output_type": "stream",
     "text": [
      "User (yes/no):  no\n"
     ]
    },
    {
     "name": "stdout",
     "output_type": "stream",
     "text": [
      "AI Diet Reccomender: Okay, sounds good! Remember, these are just general suggestions. Always consult with a healthcare professional or registered dietitian for personalized medical and dietary advice. Stay healthy!\n"
     ]
    }
   ],
   "source": [
    "# --- Main Chat Loop ---\n",
    "\n",
    "print(\"AI Diet Reccomender: Hi there! I'm your friendly meal planning assistant.\")\n",
    "print(\"AI Diet Reccomender: I can help suggest some foods based on health conditions.\")\n",
    "\n",
    "# Get initial problem\n",
    "initial_problem = input(\"AI Diet Reccomender: What's your problem or health condition? (e.g., 'back pain', 'high blood pressure')\\nUser: \")\n",
    "\n",
    "if initial_problem.strip():\n",
    "    # 1. Retrieve relevant documents\n",
    "    retrieved_docs = retrieve_relevant_documents(initial_problem)\n",
    "\n",
    "    # 2. Generate initial response\n",
    "    initial_response = generate_response(initial_problem, retrieved_docs)\n",
    "    display(Markdown(f\"**AI Diet Reccomender:**\\n{initial_response}\")) # Use Markdown for better formatting\n",
    "\n",
    "    # 3. Handle follow-up conversation\n",
    "    while True:\n",
    "        follow_up_decision = input(\"User (yes/no): \").strip().lower()\n",
    "\n",
    "        if follow_up_decision == \"yes\":\n",
    "            further_input = input(\"AI Diet Reccomender: Okay, what else is on your mind regarding this? Or what details would you like to discuss?\\nUser: \")\n",
    "\n",
    "            if further_input.strip():\n",
    "                # Construct a conversational prompt for follow-up\n",
    "                # We can reuse retrieval or just let Gemini handle conversationally\n",
    "                # For simplicity here, let Gemini continue based on the new input + initial context\n",
    "\n",
    "                follow_up_prompt = f\"\"\"You are a friendly AI personal diet planner continuing a conversation.\n",
    "\n",
    "                The user's initial problem was: \"{initial_problem}\"\n",
    "                They previously received some recommendations and now want to discuss further.\n",
    "\n",
    "                Their latest input is: \"{further_input}\"\n",
    "\n",
    "                Instructions:\n",
    "                1. Respond helpfully and conversationally to the user's latest input, keeping the initial problem in mind.\n",
    "                2. Provide additional details, clarification, or answer related questions based on your general knowledge and the context of the initial problem (but prioritize safety and avoid giving medical advice).\n",
    "                3. Keep the tone friendly and supportive.\n",
    "                4. **Crucially:** After your response, ALWAYS ask: \"Do you want to continue discussing? (yes/no)\"\n",
    "\n",
    "                **Your Response:**\n",
    "                \"\"\"\n",
    "\n",
    "                try:\n",
    "                    follow_up_response = generative_model.generate_content(follow_up_prompt)\n",
    "                    display(Markdown(f\"**AI Diet Reccomender:**\\n{follow_up_response.text}\"))\n",
    "                except Exception as e:\n",
    "                    print(f\"Error generating follow-up response: {e}\")\n",
    "                    print(\"AI Diet Reccomender: Sorry, I had trouble processing that. Do you want to try asking differently? (yes/no)\")\n",
    "\n",
    "\n",
    "            else:\n",
    "                print(\"AI Diet Reccomender: It seems like you didn't type anything. Do you want to continue discussing? (yes/no)\")\n",
    "\n",
    "        elif follow_up_decision == \"no\":\n",
    "            print(\"AI Diet Reccomender: Okay, sounds good! Remember, these are just general suggestions. Always consult with a healthcare professional or registered dietitian for personalized medical and dietary advice. Stay healthy!\")\n",
    "            break\n",
    "        else:\n",
    "            print(\"AI Diet Reccomender: Sorry, I didn't quite catch that. Please type 'yes' to continue or 'no' to stop.\")\n",
    "\n",
    "else:\n",
    "    print(\"AI Diet Reccomender: It looks like you didn't specify a problem. If you change your mind, just run me again!\")"
   ]
  },
  {
   "cell_type": "markdown",
   "metadata": {},
   "source": [
    "## Limitations & Future Improvements\n",
    "\n",
    "- Limited Knowledge Base: The sample data in diet_data.py is very basic. A real application needs a comprehensive, medically validated database.\n",
    "- No Real-time Data: Doesn't access external, up-to-the-minute medical information.\n",
    "- Basic RAG: Retrieval is based on simple similarity. More advanced techniques could improve relevance.\n",
    "- No User Profiles: Doesn't store user history, allergies, or preferences across sessions.\n",
    "- Safety: While basic prompts guide the AI, more robust safety layers and content filtering would be needed for a production app.\n",
    "- Error Handling: Basic error handling is included, but could be more comprehensive."
   ]
  },
  {
   "cell_type": "markdown",
   "metadata": {},
   "source": [
    "This setup gives us a functional prototype. Again, **It is NOT a substitute for professional medical or dietary advice.**\n",
    "Play around and tinker with your own version of this RAG by copying this notebook. Let me know if you have any questions or suggestions for improvements!"
   ]
  },
  {
   "cell_type": "markdown",
   "metadata": {},
   "source": [
    "## Contact\n",
    "\n",
    "- [LinkedIn](https://www.linkedin.com/in/robert-modalo-78b97580)\n",
    "- [Medium](https://medium.com/@robertmodalo2)\n",
    "- [GitHub](https://github.com/robertmodalocodes)"
   ]
  }
 ],
 "metadata": {
  "kaggle": {
   "accelerator": "none",
   "dataSources": [
    {
     "sourceId": 97258,
     "sourceType": "competition"
    }
   ],
   "dockerImageVersionId": 31012,
   "isGpuEnabled": false,
   "isInternetEnabled": true,
   "language": "python",
   "sourceType": "notebook"
  },
  "kernelspec": {
   "display_name": "Python 3",
   "language": "python",
   "name": "python3"
  },
  "language_info": {
   "codemirror_mode": {
    "name": "ipython",
    "version": 3
   },
   "file_extension": ".py",
   "mimetype": "text/x-python",
   "name": "python",
   "nbconvert_exporter": "python",
   "pygments_lexer": "ipython3",
   "version": "3.11.11"
  }
 },
 "nbformat": 4,
 "nbformat_minor": 4
}
