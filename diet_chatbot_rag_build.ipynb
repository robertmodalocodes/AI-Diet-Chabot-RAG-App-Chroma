{
 "cells": [
  {
   "cell_type": "markdown",
   "metadata": {},
   "source": [
    "# Diet Recommender Chatbot - Kaggle Notebook\n",
    "\n",
    "## Google Gen AI Intensive Course Capstone 2025Q1\n",
    "\n",
    "This project is a part of 5-day Gen AI Intensive Course with Google\n",
    "\n",
    "This project is a simple AI chatbot designed to provide general dietary recommendations based on user-inputted health conditions or diagnoses, acting like a friendly personal diet planner.\n",
    "\n",
    "It utilizes Google's Gemini model for conversational AI and response generation, combined with a Retrieval-Augmented Generation (RAG) approach. A basic knowledge base of dietary information is embedded and stored in a ChromaDB vector database for efficient retrieval.\n",
    "\n",
    "**Disclaimer:** This tool provides general information based on its knowledge base and AI generation. **It is NOT a substitute for professional medical or dietary advice.** Always consult with a qualified healthcare provider or registered dietitian for personalized recommendations specific to your health situation."
   ]
  },
  {
   "cell_type": "markdown",
   "metadata": {},
   "source": [
    "## How it Works\n",
    "\n",
    "1. **Knowledge Base:** Sample dietary information for different conditions is defined directly within this notebook\n",
    "2. **Embedding:** This knowledge base is processed, and each document is converted into a numerical vector using Google's `text-embedding-004` model.\n",
    "3. **Vector Store:** These embeddings and the corresponding text documents are stored in a ChromaDB collection (in-memory for simplicity).\n",
    "4. **User Query:** When the user provides their health condition, their query is also embedded.\n",
    "5. **Retrieval:** ChromaDB is queried to find the documents in the knowledge base whose embeddings are most similar (semantically) to the user's query embedding.\n",
    "6. **Generation:** The user's query and the retrieved documents (context) are fed into the Gemini (`gemini-2.0-flash`) model with a specific prompt instructing it to act as a meal planner and generate recommendations based _only_ on the provided context.\n",
    "7. **Interaction:** The user will go through the chat interface, state (like whether a recommendation has been given), and the follow-up conversation loop."
   ]
  },
  {
   "cell_type": "markdown",
   "metadata": {},
   "source": [
    "***Note that you can't \"Run All\" this notebook as it requires inputs for the tasks. Run the code cell by cell from top to bottom instead to get the notebook run properly***"
   ]
  },
  {
   "cell_type": "markdown",
   "metadata": {},
   "source": [
    "## 1. Setup and Installations\n",
    "\n",
    "Install libraries."
   ]
  },
  {
   "cell_type": "code",
   "execution_count": 2,
   "metadata": {
    "execution": {
     "iopub.execute_input": "2025-04-17T05:17:53.913775Z",
     "iopub.status.busy": "2025-04-17T05:17:53.913439Z",
     "iopub.status.idle": "2025-04-17T05:18:42.266793Z",
     "shell.execute_reply": "2025-04-17T05:18:42.265641Z",
     "shell.execute_reply.started": "2025-04-17T05:17:53.913711Z"
    },
    "trusted": true
   },
   "outputs": [
    {
     "name": "stdout",
     "output_type": "stream",
     "text": [
      "\u001b[33mWARNING: Skipping jupyterlab as it is not installed.\u001b[0m\u001b[33m\n",
      "\u001b[2K   \u001b[90m━━━━━━━━━━━━━━━━━━━━━━━━━━━━━━━━━━━━━━━━\u001b[0m \u001b[32m144.7/144.7 kB\u001b[0m \u001b[31m6.7 MB/s\u001b[0m eta \u001b[36m0:00:00\u001b[0m\n",
      "\u001b[2K   \u001b[90m━━━━━━━━━━━━━━━━━━━━━━━━━━━━━━━━━━━━━━━━\u001b[0m \u001b[32m100.9/100.9 kB\u001b[0m \u001b[31m5.7 MB/s\u001b[0m eta \u001b[36m0:00:00\u001b[0m\n",
      "\u001b[?25h\u001b[31mERROR: pip's dependency resolver does not currently take into account all the packages that are installed. This behaviour is the source of the following dependency conflicts.\n",
      "jupyterlab-lsp 3.10.2 requires jupyterlab<4.0.0a0,>=3.1.0, which is not installed.\u001b[0m\u001b[31m\n",
      "\u001b[2K     \u001b[90m━━━━━━━━━━━━━━━━━━━━━━━━━━━━━━━━━━━━━━━━\u001b[0m \u001b[32m67.3/67.3 kB\u001b[0m \u001b[31m3.0 MB/s\u001b[0m eta \u001b[36m0:00:00\u001b[0m\n",
      "\u001b[?25h  Installing build dependencies ... \u001b[?25l\u001b[?25hdone\n",
      "  Getting requirements to build wheel ... \u001b[?25l\u001b[?25hdone\n",
      "  Preparing metadata (pyproject.toml) ... \u001b[?25l\u001b[?25hdone\n",
      "\u001b[2K   \u001b[90m━━━━━━━━━━━━━━━━━━━━━━━━━━━━━━━━━━━━━━━━\u001b[0m \u001b[32m155.4/155.4 kB\u001b[0m \u001b[31m7.0 MB/s\u001b[0m eta \u001b[36m0:00:00\u001b[0m\n",
      "\u001b[2K   \u001b[90m━━━━━━━━━━━━━━━━━━━━━━━━━━━━━━━━━━━━━━━━\u001b[0m \u001b[32m18.3/18.3 MB\u001b[0m \u001b[31m64.0 MB/s\u001b[0m eta \u001b[36m0:00:00\u001b[0m:00:01\u001b[0m00:01\u001b[0m\n",
      "\u001b[2K   \u001b[90m━━━━━━━━━━━━━━━━━━━━━━━━━━━━━━━━━━━━━━━━\u001b[0m \u001b[32m2.4/2.4 MB\u001b[0m \u001b[31m50.8 MB/s\u001b[0m eta \u001b[36m0:00:00\u001b[0m:00:01\u001b[0m\n",
      "\u001b[2K   \u001b[90m━━━━━━━━━━━━━━━━━━━━━━━━━━━━━━━━━━━━━━━━\u001b[0m \u001b[32m94.9/94.9 kB\u001b[0m \u001b[31m5.2 MB/s\u001b[0m eta \u001b[36m0:00:00\u001b[0m\n",
      "\u001b[2K   \u001b[90m━━━━━━━━━━━━━━━━━━━━━━━━━━━━━━━━━━━━━━━━\u001b[0m \u001b[32m284.2/284.2 kB\u001b[0m \u001b[31m12.2 MB/s\u001b[0m eta \u001b[36m0:00:00\u001b[0m\n",
      "\u001b[2K   \u001b[90m━━━━━━━━━━━━━━━━━━━━━━━━━━━━━━━━━━━━━━━━\u001b[0m \u001b[32m2.0/2.0 MB\u001b[0m \u001b[31m54.1 MB/s\u001b[0m eta \u001b[36m0:00:00\u001b[0m:00:01\u001b[0m\n",
      "\u001b[2K   \u001b[90m━━━━━━━━━━━━━━━━━━━━━━━━━━━━━━━━━━━━━━━━\u001b[0m \u001b[32m101.6/101.6 kB\u001b[0m \u001b[31m5.7 MB/s\u001b[0m eta \u001b[36m0:00:00\u001b[0m\n",
      "\u001b[2K   \u001b[90m━━━━━━━━━━━━━━━━━━━━━━━━━━━━━━━━━━━━━━━━\u001b[0m \u001b[32m16.0/16.0 MB\u001b[0m \u001b[31m68.2 MB/s\u001b[0m eta \u001b[36m0:00:00\u001b[0m:00:01\u001b[0m00:01\u001b[0m\n",
      "\u001b[2K   \u001b[90m━━━━━━━━━━━━━━━━━━━━━━━━━━━━━━━━━━━━━━━━\u001b[0m \u001b[32m52.5/52.5 kB\u001b[0m \u001b[31m2.6 MB/s\u001b[0m eta \u001b[36m0:00:00\u001b[0m\n",
      "\u001b[2K   \u001b[90m━━━━━━━━━━━━━━━━━━━━━━━━━━━━━━━━━━━━━━━━\u001b[0m \u001b[32m149.7/149.7 kB\u001b[0m \u001b[31m7.6 MB/s\u001b[0m eta \u001b[36m0:00:00\u001b[0m\n",
      "\u001b[2K   \u001b[90m━━━━━━━━━━━━━━━━━━━━━━━━━━━━━━━━━━━━━━━━\u001b[0m \u001b[32m64.0/64.0 kB\u001b[0m \u001b[31m3.4 MB/s\u001b[0m eta \u001b[36m0:00:00\u001b[0m\n",
      "\u001b[2K   \u001b[90m━━━━━━━━━━━━━━━━━━━━━━━━━━━━━━━━━━━━━━━━\u001b[0m \u001b[32m110.5/110.5 kB\u001b[0m \u001b[31m5.8 MB/s\u001b[0m eta \u001b[36m0:00:00\u001b[0m\n",
      "\u001b[2K   \u001b[90m━━━━━━━━━━━━━━━━━━━━━━━━━━━━━━━━━━━━━━━━\u001b[0m \u001b[32m89.1/89.1 kB\u001b[0m \u001b[31m5.4 MB/s\u001b[0m eta \u001b[36m0:00:00\u001b[0m\n",
      "\u001b[2K   \u001b[90m━━━━━━━━━━━━━━━━━━━━━━━━━━━━━━━━━━━━━━━━\u001b[0m \u001b[32m62.4/62.4 kB\u001b[0m \u001b[31m2.5 MB/s\u001b[0m eta \u001b[36m0:00:00\u001b[0m\n",
      "\u001b[2K   \u001b[90m━━━━━━━━━━━━━━━━━━━━━━━━━━━━━━━━━━━━━━━━\u001b[0m \u001b[32m459.8/459.8 kB\u001b[0m \u001b[31m20.1 MB/s\u001b[0m eta \u001b[36m0:00:00\u001b[0m\n",
      "\u001b[2K   \u001b[90m━━━━━━━━━━━━━━━━━━━━━━━━━━━━━━━━━━━━━━━━\u001b[0m \u001b[32m71.5/71.5 kB\u001b[0m \u001b[31m4.2 MB/s\u001b[0m eta \u001b[36m0:00:00\u001b[0m\n",
      "\u001b[2K   \u001b[90m━━━━━━━━━━━━━━━━━━━━━━━━━━━━━━━━━━━━━━━━\u001b[0m \u001b[32m4.0/4.0 MB\u001b[0m \u001b[31m65.3 MB/s\u001b[0m eta \u001b[36m0:00:00\u001b[0m:00:01\u001b[0m\n",
      "\u001b[2K   \u001b[90m━━━━━━━━━━━━━━━━━━━━━━━━━━━━━━━━━━━━━━━━\u001b[0m \u001b[32m454.8/454.8 kB\u001b[0m \u001b[31m19.5 MB/s\u001b[0m eta \u001b[36m0:00:00\u001b[0m\n",
      "\u001b[2K   \u001b[90m━━━━━━━━━━━━━━━━━━━━━━━━━━━━━━━━━━━━━━━━\u001b[0m \u001b[32m46.0/46.0 kB\u001b[0m \u001b[31m2.0 MB/s\u001b[0m eta \u001b[36m0:00:00\u001b[0m\n",
      "\u001b[2K   \u001b[90m━━━━━━━━━━━━━━━━━━━━━━━━━━━━━━━━━━━━━━━━\u001b[0m \u001b[32m86.8/86.8 kB\u001b[0m \u001b[31m5.0 MB/s\u001b[0m eta \u001b[36m0:00:00\u001b[0m\n",
      "\u001b[?25h  Building wheel for pypika (pyproject.toml) ... \u001b[?25l\u001b[?25hdone\n"
     ]
    }
   ],
   "source": [
    "!pip uninstall -qy jupyterlab\n",
    "!pip install -U -q \"google-genai==1.7.0\"\n",
    "!pip install -q -U google-generativeai chromadb pandas python-dotenv"
   ]
  },
  {
   "cell_type": "markdown",
   "metadata": {},
   "source": [
    "## 2. Import Libraries and Configure API Key"
   ]
  },
  {
   "cell_type": "markdown",
   "metadata": {},
   "source": [
    "### Import libraries"
   ]
  },
  {
   "cell_type": "code",
   "execution_count": 3,
   "metadata": {
    "execution": {
     "iopub.execute_input": "2025-04-17T05:18:53.627803Z",
     "iopub.status.busy": "2025-04-17T05:18:53.626924Z",
     "iopub.status.idle": "2025-04-17T05:18:58.310162Z",
     "shell.execute_reply": "2025-04-17T05:18:58.309209Z",
     "shell.execute_reply.started": "2025-04-17T05:18:53.627712Z"
    },
    "trusted": true
   },
   "outputs": [],
   "source": [
    "from google import generativeai as genai_default\n",
    "from google import genai\n",
    "from google.genai import types\n",
    "\n",
    "import numpy as np\n",
    "import pandas as pd\n",
    "import chromadb\n",
    "import pandas as pd\n",
    "import os\n",
    "import time\n",
    "from IPython.display import display, Markdown\n",
    "\n",
    "import os\n",
    "for dirname, _, filenames in os.walk('/kaggle/input'):\n",
    "    for filename in filenames:\n",
    "        print(os.path.join(dirname, filename))"
   ]
  },
  {
   "cell_type": "markdown",
   "metadata": {},
   "source": [
    "Set up a retry helper to \"Run all\" without worrying about per-minute quota."
   ]
  },
  {
   "cell_type": "code",
   "execution_count": 4,
   "metadata": {
    "execution": {
     "iopub.execute_input": "2025-04-17T05:19:07.377056Z",
     "iopub.status.busy": "2025-04-17T05:19:07.376685Z",
     "iopub.status.idle": "2025-04-17T05:19:07.385077Z",
     "shell.execute_reply": "2025-04-17T05:19:07.383968Z",
     "shell.execute_reply.started": "2025-04-17T05:19:07.377032Z"
    },
    "trusted": true
   },
   "outputs": [],
   "source": [
    "from google.api_core import retry\n",
    "\n",
    "is_retriable = lambda e: (isinstance(e, genai.errors.APIError) and e.code in {429, 503})\n",
    "\n",
    "genai.models.Models.generate_content = retry.Retry(\n",
    "    predicate=is_retriable)(genai.models.Models.generate_content)"
   ]
  },
  {
   "cell_type": "markdown",
   "metadata": {},
   "source": [
    "### Set up API key"
   ]
  },
  {
   "cell_type": "code",
   "execution_count": 5,
   "metadata": {
    "execution": {
     "iopub.execute_input": "2025-04-17T05:19:20.223615Z",
     "iopub.status.busy": "2025-04-17T05:19:20.223259Z",
     "iopub.status.idle": "2025-04-17T05:19:20.400988Z",
     "shell.execute_reply": "2025-04-17T05:19:20.400159Z",
     "shell.execute_reply.started": "2025-04-17T05:19:20.223589Z"
    },
    "trusted": true
   },
   "outputs": [
    {
     "name": "stdout",
     "output_type": "stream",
     "text": [
      "API Key configured successfully.\n"
     ]
    }
   ],
   "source": [
    "# Load API Key from Kaggle Secrets\n",
    "from kaggle_secrets import UserSecretsClient\n",
    "\n",
    "try:\n",
    "    user_secrets = UserSecretsClient()\n",
    "    GOOGLE_API_KEY = user_secrets.get_secret(\"GOOGLE_API_KEY\")\n",
    "    os.environ['GOOGLE_API_KEY'] = GOOGLE_API_KEY\n",
    "    genai_default.configure(api_key=GOOGLE_API_KEY)\n",
    "    print(\"API Key configured successfully.\")\n",
    "except Exception as e:\n",
    "    print(f\"Error configuring API Key from Kaggle Secrets: {e}\")\n",
    "    print(\"Please ensure you have added your GOOGLE_API_KEY as a secret in Kaggle.\")\n",
    "    \n",
    "    # Fallback for local testing (if not on Kaggle or secret fails)\n",
    "    # from dotenv import load_dotenv\n",
    "    \n",
    "    # load_dotenv()\n",
    "    \n",
    "    # GOOGLE_API_KEY = os.getenv(\"GOOGLE_API_KEY\")\n",
    "    # if GOOGLE_API_KEY:\n",
    "    #     genai.configure(api_key=GOOGLE_API_KEY)\n",
    "    #     print(\"API Key configured from .env file (local testing).\")\n",
    "    # else:\n",
    "    #     print(\"API Key not found. Please set it up either via Kaggle Secrets or a .env file.\")\n",
    "\n",
    "# Check if configuration succeeded\n",
    "if not os.getenv('GOOGLE_API_KEY'):\n",
    "     raise ValueError(\"API Key not configured. Stopping execution.\")"
   ]
  },
  {
   "cell_type": "markdown",
   "metadata": {},
   "source": [
    "## 3. Load Knowledge Base Data\n",
    "\n",
    "We'll import the sample diet documents. \n",
    "\n",
    "**Disclaimer!** Note that these sample documents were previously ***one-shot***-generated using the Gemini model itself so they might contain hallucinations resulting in reccomendation inaccuracies. Therefore the reccomendations and recipes are not to be taken seriously.\n",
    "\n",
    "Nevertheless, these samples (although limited) are supposed to serve as examples and are necessary to build the knowledge base for the RAG.\n",
    "\n",
    "In a real scenario, this data would come from a more robust source."
   ]
  },
  {
   "cell_type": "code",
   "execution_count": 6,
   "metadata": {
    "execution": {
     "iopub.execute_input": "2025-04-17T05:19:26.131248Z",
     "iopub.status.busy": "2025-04-17T05:19:26.130933Z",
     "iopub.status.idle": "2025-04-17T05:19:26.146039Z",
     "shell.execute_reply": "2025-04-17T05:19:26.145026Z",
     "shell.execute_reply.started": "2025-04-17T05:19:26.131224Z"
    },
    "trusted": true
   },
   "outputs": [],
   "source": [
    "# The documents are initially meant to be stored in a separate python file called \"diet_data.py\"\n",
    "# Assuming diet_data.py is in the same directory or accessible path\n",
    "# On Kaggle, we might need to upload diet_data.py as a utility script or copy its content here.\n",
    "\n",
    "# Let's define the data directly here for simplicity in the Kaggle notebook environment\n",
    "DIET_DOCUMENTS = [\n",
    "    {\n",
    "        \"id\": \"doc1\",\n",
    "        \"condition\": \"Back Pain / Inflammation\",\n",
    "        \"text\": \"\"\"\n",
    "        **Diet Recommendations for Back Pain & Inflammation:**\n",
    "\n",
    "        *Focus on anti-inflammatory foods.*\n",
    "\n",
    "        **Fruits:** Berries (blueberries, strawberries, raspberries), cherries, pineapple, oranges, apples. These are rich in antioxidants and vitamins.\n",
    "        **Vegetables:** Leafy greens (spinach, kale, Swiss chard), broccoli, bell peppers, carrots, sweet potatoes. Packed with vitamins, minerals, and fiber.\n",
    "        **Meats/Proteins:** Fatty fish (salmon, mackerel, sardines - high in Omega-3s), lean poultry (chicken breast, turkey), legumes (beans, lentils), tofu, nuts, and seeds (walnuts, flaxseeds, chia seeds). Limit red meat and processed meats.\n",
    "        **Other:** Olive oil, turmeric, ginger, green tea. Stay well-hydrated with water. Avoid sugary drinks, refined carbohydrates (white bread, pasta), fried foods, and excessive saturated fats.\n",
    "\n",
    "        **Simple Recipe Idea: Salmon with Roasted Veggies**\n",
    "        *   Toss chopped sweet potatoes, broccoli florets, and red bell pepper strips with olive oil, salt, pepper, and a pinch of turmeric. Roast at 400°F (200°C) for 20-25 minutes.\n",
    "        *   Season salmon fillets with salt, pepper, and lemon juice. Add to the baking sheet with veggies for the last 12-15 minutes of cooking, or until salmon is cooked through.\n",
    "        *   Serve immediately.\n",
    "        \"\"\"\n",
    "    },\n",
    "    {\n",
    "        \"id\": \"doc2\",\n",
    "        \"condition\": \"High Blood Pressure (Hypertension)\",\n",
    "        \"text\": \"\"\"\n",
    "        **Diet Recommendations for High Blood Pressure (Hypertension):**\n",
    "\n",
    "        *Focus on the DASH (Dietary Approaches to Stop Hypertension) diet principles. Emphasize low sodium.*\n",
    "\n",
    "        **Fruits:** Bananas (potassium), berries, apples, oranges, peaches, melons. Aim for 4-5 servings daily.\n",
    "        **Vegetables:** Leafy greens, broccoli, carrots, tomatoes, potatoes (especially sweet potatoes). Aim for 4-5 servings daily.\n",
    "        **Meats/Proteins:** Lean meats (skinless poultry, fish), beans, lentils, nuts, seeds. Limit red meat. Aim for 6 or fewer ounces per day.\n",
    "        **Grains:** Whole grains (oatmeal, brown rice, whole wheat bread/pasta). Aim for 6-8 servings daily.\n",
    "        **Dairy:** Low-fat or fat-free milk, yogurt, cheese. Aim for 2-3 servings daily.\n",
    "        **Other:** Limit sodium intake significantly (aim for under 1500mg/day if possible, definitely under 2300mg). Reduce added sugars, saturated fats, and trans fats. Use herbs and spices for flavor instead of salt. Stay hydrated.\n",
    "\n",
    "        **Simple Recipe Idea: Chicken and Veggie Stir-fry with Brown Rice**\n",
    "        *   Cook brown rice according to package directions.\n",
    "        *   Stir-fry sliced chicken breast in a little sesame or olive oil until cooked. Remove from wok/pan.\n",
    "        *   Add chopped vegetables (broccoli, bell peppers, carrots, snow peas) and stir-fry until tender-crisp.\n",
    "        *   Add chicken back to the pan. Toss with a low-sodium soy sauce (or coconut aminos), ginger, and garlic.\n",
    "        *   Serve over brown rice.\n",
    "        \"\"\"\n",
    "    },\n",
    "    {\n",
    "        \"id\": \"doc3\",\n",
    "        \"condition\": \"Type 2 Diabetes Management\",\n",
    "        \"text\": \"\"\"\n",
    "        **Diet Recommendations for Type 2 Diabetes Management:**\n",
    "\n",
    "        *Focus on controlling blood sugar levels through balanced meals, portion control, and carbohydrate awareness.*\n",
    "\n",
    "        **Fruits:** Berries, apples, pears, oranges, melon. Choose whole fruits over juices. Be mindful of portion sizes due to natural sugars.\n",
    "        **Vegetables:** Non-starchy vegetables are excellent (leafy greens, broccoli, cauliflower, bell peppers, green beans, zucchini). Include starchy vegetables (potatoes, corn, peas) in moderation and count them as carbs.\n",
    "        **Meats/Proteins:** Lean protein sources like fish, skinless poultry, beans, lentils, tofu, eggs, nuts in moderation. Helps with satiety and doesn't spike blood sugar significantly.\n",
    "        **Grains:** Whole grains (quinoa, brown rice, oats, whole wheat bread - check labels for fiber content). Portion control is key for carbohydrate counting.\n",
    "        **Dairy:** Low-fat or non-fat milk, yogurt (plain), cheese in moderation.\n",
    "        **Other:** Healthy fats (avocado, olive oil, nuts, seeds). Limit sugary drinks, sweets, processed foods, white bread/rice/pasta, and trans fats. Focus on fiber-rich foods. Consistent meal timing can help manage blood sugar. Stay hydrated with water.\n",
    "\n",
    "        **Simple Recipe Idea: Lentil Soup**\n",
    "        *   Sauté chopped onions, carrots, and celery in a pot with a little olive oil.\n",
    "        *   Add vegetable broth, rinsed lentils (brown or green), diced tomatoes (no salt added), and herbs like thyme or bay leaf.\n",
    "        *   Simmer until lentils are tender (about 30-40 minutes).\n",
    "        *   Season with black pepper. Add a splash of vinegar or lemon juice at the end if desired.\n",
    "        *   This soup is high in fiber and protein.\n",
    "        \"\"\"\n",
    "    },\n",
    "    {\n",
    "        \"id\": \"doc4\",\n",
    "        \"condition\": \"General Healthy Eating / Weight Management\",\n",
    "        \"text\": \"\"\"\n",
    "        **General Healthy Eating & Weight Management Tips:**\n",
    "\n",
    "        *Focus on whole, unprocessed foods, portion control, and balanced macronutrients.*\n",
    "\n",
    "        **Fruits:** Include a variety of colorful fruits daily. Good source of vitamins, minerals, and fiber.\n",
    "        **Vegetables:** Fill half your plate with non-starchy vegetables at meals (leafy greens, broccoli, peppers, zucchini, etc.). They are nutrient-dense and low in calories.\n",
    "        **Meats/Proteins:** Choose lean protein sources (chicken, turkey, fish, beans, lentils, tofu, eggs). Protein helps with satiety. Include protein with each meal.\n",
    "        **Grains:** Opt for whole grains (brown rice, quinoa, oats, whole wheat bread) over refined grains. They provide more fiber and nutrients. Be mindful of portion sizes.\n",
    "        **Fats:** Include healthy fats from sources like avocados, nuts, seeds, and olive oil. Limit saturated and trans fats found in fried foods, fatty meats, and processed snacks.\n",
    "        **Other:** Drink plenty of water throughout the day. Limit sugary drinks (soda, juice) and alcohol. Reduce intake of processed foods, fast food, and high-sugar snacks. Practice mindful eating - pay attention to hunger and fullness cues. Regular physical activity is also crucial for weight management and overall health.\n",
    "\n",
    "        **Simple Recipe Idea: Grilled Chicken Salad**\n",
    "        *   Grill or pan-sear a chicken breast. Let it rest, then slice or dice it.\n",
    "        *   Create a large salad base with mixed greens, spinach, cucumber, tomatoes, bell peppers, and red onion.\n",
    "        *   Add the cooked chicken.\n",
    "        *   Optional additions: chickpeas, a small amount of sliced avocado, or some sunflower seeds.\n",
    "        *   Dress with a light vinaigrette made from olive oil, lemon juice or vinegar, and herbs.\n",
    "        \"\"\"\n",
    "    },\n",
    "    {\n",
    "        \"id\": \"doc5\",\n",
    "        \"condition\": \"Iron Deficiency Anemia\",\n",
    "        \"text\": \"\"\"\n",
    "        **Diet Recommendations for Iron Deficiency Anemia:**\n",
    "       \n",
    "        *Focus on boosting iron intake and enhancing absorption.*\n",
    "       \n",
    "        **Fruits:** Citrus fruits (oranges, grapefruit), strawberries, bell peppers, tomatoes (Vitamin C sources eaten with iron-rich foods help absorption).\n",
    "        **Vegetables:** Spinach, kale, broccoli, sweet potatoes, peas.\n",
    "        **Meats/Proteins:** Lean red meat (beef, lamb), poultry (chicken, turkey - dark meat has more iron), fish (sardines, tuna), eggs, lentils, beans (kidney, chickpeas), tofu, pumpkin seeds.\n",
    "        **Grains:** Iron-fortified cereals, breads, and pasta; quinoa, oats.\n",
    "        **Other:** Cook in cast-iron skillets (can add small amounts of iron). Avoid drinking coffee or tea *with* iron-rich meals as tannins can inhibit absorption. Calcium supplements or high-calcium foods (like dairy) can also interfere, so time them separately.\n",
    "       \n",
    "        **Simple Recipe Idea: Lean Beef and Broccoli Stir-Fry**\n",
    "        *   Slice lean beef thinly. Stir-fry in a wok or large pan with a little sesame oil until browned. Remove beef.\n",
    "        *   Add broccoli florets and sliced red bell peppers (Vit C) to the pan, stir-fry until tender-crisp.\n",
    "        *   Return beef to the pan. Add a sauce made from low-sodium soy sauce, ginger, garlic, and a touch of orange juice (Vit C).\n",
    "        *   Serve immediately over brown rice or quinoa.\n",
    "        \"\"\"\n",
    "    },\n",
    "    {\n",
    "        \"id\": \"doc6\",\n",
    "        \"condition\": \"GERD / Acid Reflux Management\",\n",
    "        \"text\": \"\"\"\n",
    "        **Diet Recommendations for GERD / Acid Reflux Management:**\n",
    "        \n",
    "        *Focus on avoiding common trigger foods, eating smaller meals, and choosing low-fat options.*\n",
    "        \n",
    "        **Fruits:** Bananas, melons (cantaloupe, honeydew), pears, apples (non-citrus, in moderation).\n",
    "        **Vegetables:** Green beans, broccoli, asparagus, cauliflower, potatoes, cucumbers, leafy greens.\n",
    "        **Meats/Proteins:** Lean poultry (skinless chicken/turkey - baked, grilled, or poached), fish (baked, grilled, or poached), egg whites, tofu.\n",
    "        **Grains:** Oatmeal, whole-wheat bread, brown rice, couscous.\n",
    "        **Dairy:** Low-fat or skim milk, low-fat yogurt (plain), small amounts of low-fat cheese (if tolerated).\n",
    "        **Other:** Healthy fats in moderation (avocado, olive oil). Stay upright after eating, avoid late-night meals. Common triggers to avoid: Citrus fruits, tomatoes/tomato sauce, garlic, onions, spicy foods, fried/fatty foods, chocolate, mint, caffeine (coffee, tea, soda), alcohol, carbonated beverages.\n",
    "        \n",
    "        **Simple Recipe Idea: Baked Chicken Breast with Roasted Sweet Potatoes and Green Beans**\n",
    "        *   Toss cubed sweet potatoes and trimmed green beans with a small amount of olive oil, salt, and pepper (avoid garlic/onion powder if sensitive).\n",
    "        *   Roast on a baking sheet at 400°F (200°C) for about 20-25 minutes.\n",
    "        *   Season a skinless chicken breast with salt, pepper, and perhaps some mild herbs like thyme or rosemary. Add to the baking sheet for the last 15-20 minutes of cooking, until chicken is cooked through.\n",
    "        *   Serve warm.\n",
    "        \"\"\"\n",
    "    },\n",
    "    {\n",
    "        \"id\": \"doc7\",\n",
    "        \"condition\": \"Constipation Relief\",\n",
    "        \"text\": \"\"\"\n",
    "        **Diet Recommendations for Constipation Relief:**\n",
    "        \n",
    "        *Focus on significantly increasing dietary fiber intake from various sources and ensuring adequate hydration.*\n",
    "        \n",
    "        **Fruits:** Prunes, figs, berries (raspberries, blackberries), pears (with skin), apples (with skin), kiwi, oranges.\n",
    "        **Vegetables:** Broccoli, Brussels sprouts, carrots, leafy greens (spinach, kale), peas, artichokes.\n",
    "        **Meats/Proteins:** Legumes are excellent fiber sources: Beans (black, kidney, pinto), lentils, chickpeas. Other proteins are generally low in fiber.\n",
    "        **Grains:** Whole grains are key: Oatmeal (especially steel-cut or rolled), brown rice, quinoa, barley, whole-wheat bread and pasta, bran cereals.\n",
    "        **Other:** Nuts and seeds (chia seeds, flax seeds, almonds, walnuts - in moderation), plenty of water throughout the day (aim for 8+ glasses). Regular physical activity also helps stimulate bowel movements.\n",
    "        \n",
    "        **Simple Recipe Idea: High-Fiber Oatmeal with Berries and Seeds**\n",
    "        *   Cook rolled oats or steel-cut oats according to package directions using water or milk.\n",
    "        *   Once cooked, stir in 1-2 tablespoons of chia seeds or ground flax seeds.\n",
    "        *   Top with a generous handful of fresh berries (like raspberries or blueberries) and a small sprinkle of nuts if desired.\n",
    "        *   Consider adding sliced prunes for an extra boost.\n",
    "        \"\"\"\n",
    "    },\n",
    "    {\n",
    "        \"id\": \"doc8\",\n",
    "        \"condition\": \"Building Muscle / High Protein Diet Support\",\n",
    "        \"text\": \"\"\"\n",
    "        **Diet Recommendations for Building Muscle / High Protein Diet Support:**\n",
    "        \n",
    "        *Focus on adequate protein intake distributed throughout the day, paired with complex carbohydrates for energy and sufficient calories overall.*\n",
    "        \n",
    "        **Fruits:** All types are beneficial for vitamins, minerals, and antioxidants (e.g., bananas for potassium, berries for antioxidants).\n",
    "        **Vegetables:** Include a wide variety for micronutrients (e.g., spinach, broccoli, sweet potatoes).\n",
    "        **Meats/Proteins:** Prioritize lean sources: Chicken breast, turkey breast, lean beef (sirloin, tenderloin), fish (salmon, tuna, tilapia), eggs (whole eggs and egg whites), Greek yogurt, cottage cheese, tofu, edamame, beans, lentils.\n",
    "        **Grains:** Complex carbohydrates for sustained energy: Oats, quinoa, brown rice, whole-wheat pasta, whole-wheat bread, buckwheat.\n",
    "        **Dairy:** Greek yogurt, cottage cheese, milk (choose fat level based on overall calorie needs).\n",
    "        **Other:** Healthy fats (avocado, nuts, seeds, olive oil). Adequate hydration is crucial. Consider protein timing around workouts (e.g., a meal or snack with protein and carbs within a couple of hours post-exercise).\n",
    "        \n",
    "        **Simple Recipe Idea: Grilled Chicken Breast with Quinoa and Steamed Asparagus**\n",
    "        *   Cook quinoa according to package directions.\n",
    "        *   Grill or pan-sear a seasoned chicken breast until cooked through.\n",
    "        *   Steam or lightly sauté asparagus spears with a little olive oil, salt, and pepper.\n",
    "        *   Serve the chicken breast alongside a portion of quinoa and asparagus for a balanced, high-protein meal.\n",
    "        \"\"\"\n",
    "    },\n",
    "    {\n",
    "        \"id\": \"doc9\",\n",
    "        \"condition\": \"Low FODMAP Diet (Initial Phase Example for IBS Symptoms)\",\n",
    "        \"text\": \"\"\"\n",
    "        **Diet Recommendations for Low FODMAP Diet (Initial Phase for IBS Symptoms):**\n",
    "        \n",
    "        *Focus: Temporarily restrict high-FODMAP carbohydrates to identify potential IBS triggers. IMPORTANT: This diet is complex and meant to be short-term, followed by systematic reintroduction under professional guidance (doctor or registered dietitian specializing in IBS). This is just an example of *some* low-FODMAP foods.*\n",
    "        \n",
    "        **Fruits (Low FODMAP examples):** Unripe bananas, blueberries, cantaloupe, grapes, kiwi, lemon, lime, oranges, raspberries, strawberries (limit quantities as per Monash University app guidelines).\n",
    "        **Vegetables (Low FODMAP examples):** Bell peppers (any color), carrots, cucumber, eggplant, green beans, kale, lettuce, potatoes, spinach, tomatoes, zucchini.\n",
    "        **Meats/Proteins:** Plain cooked beef, chicken, fish, lamb, pork, shellfish, eggs, firm tofu.\n",
    "        **Grains:** Gluten-free bread/pasta (check ingredients for high-FODMAP additives), oats, quinoa, rice (white, brown), corn tortillas.\n",
    "        **Dairy:** Lactose-free milk/yogurt, hard cheeses (cheddar, mozzarella, parmesan), small amounts of butter.\n",
    "        **Other:** Maple syrup (pure), peanuts, pumpkin seeds, walnuts, olive oil. Avoid: High-FODMAP fruits (apples, pears, mangoes, watermelon), vegetables (onions, garlic, cauliflower, mushrooms, asparagus), wheat, rye, beans, lentils, high-lactose dairy, honey, high-fructose corn syrup, cashews, pistachios.\n",
    "        \n",
    "        **Simple Recipe Idea: Simple Baked Salmon with Rice and Steamed Carrots**\n",
    "        *   Cook white or brown rice according to package directions.\n",
    "        *   Season a salmon fillet with salt, pepper, lemon juice, and dill (check seasoning blends for onion/garlic).\n",
    "        *   Bake salmon at 400°F (200°C) for 12-15 minutes, or until cooked through.\n",
    "        *   Steam sliced carrots until tender.\n",
    "        *   Serve the salmon with rice and carrots. Drizzle with a little olive oil if desired.\n",
    "        \"\"\"\n",
    "    },\n",
    "    {\n",
    "        \"id\": \"doc10\",\n",
    "        \"condition\": \"Heart Health (Post-Event / Prevention)\",\n",
    "        \"text\": \"\"\"\n",
    "        **Diet Recommendations for Heart Health (Post-Event / Prevention):**\n",
    "        \n",
    "        *Focus on reducing saturated and trans fats, limiting sodium, increasing fiber (especially soluble fiber), and incorporating omega-3 fatty acids.*\n",
    "        **Fruits:** Berries (rich in antioxidants), apples (soluble fiber), oranges (potassium, vitamin C), bananas (potassium).\n",
    "        **Vegetables:** Leafy greens (spinach, kale), broccoli, carrots, tomatoes, bell peppers. Aim for a variety of colors.\n",
    "        **Meats/Proteins:** Fatty fish high in omega-3s (salmon, mackerel, herring, sardines) at least twice a week. Skinless poultry, legumes (beans, lentils, chickpeas), tofu, nuts (especially walnuts, almonds), seeds (flaxseeds, chia seeds, sunflower seeds).\n",
    "        **Grains:** Whole grains like oats (contain beta-glucan, a soluble fiber), quinoa, brown rice, barley, whole-wheat bread/pasta.\n",
    "        **Dairy:** Low-fat or fat-free milk, yogurt, and cheese.\n",
    "        **Other:** Use olive oil instead of butter or tropical oils. Limit sodium intake by avoiding processed foods, canned soups, salty snacks, and adding salt at the table (use herbs and spices instead). Limit added sugars, sugary drinks, red meat (especially fatty cuts), and processed meats. Avoid trans fats (often listed as 'partially hydrogenated oils').\n",
    "        \n",
    "        **Simple Recipe Idea: Mediterranean Chickpea Salad**\n",
    "        *   Rinse and drain a can of chickpeas (no salt added, if possible).\n",
    "        *   Chop cucumber, tomatoes, red bell pepper, and red onion (use sparingly if preferred). Add fresh parsley.\n",
    "        *   Combine chickpeas and vegetables in a bowl.\n",
    "        *   Make a dressing with olive oil, lemon juice, dried oregano, and black pepper (avoid adding salt).\n",
    "        *   Toss the salad with the dressing. Can be served on its own, over lettuce, or with a small portion of whole-wheat pita.\n",
    "        \"\"\"\n",
    "    }\n",
    "]"
   ]
  },
  {
   "cell_type": "code",
   "execution_count": 7,
   "metadata": {
    "execution": {
     "iopub.execute_input": "2025-04-17T05:19:35.436268Z",
     "iopub.status.busy": "2025-04-17T05:19:35.435949Z",
     "iopub.status.idle": "2025-04-17T05:19:35.445995Z",
     "shell.execute_reply": "2025-04-17T05:19:35.444681Z",
     "shell.execute_reply.started": "2025-04-17T05:19:35.436244Z"
    },
    "trusted": true
   },
   "outputs": [
    {
     "name": "stdout",
     "output_type": "stream",
     "text": [
      "Loaded 10 documents.\n"
     ]
    }
   ],
   "source": [
    "# Convert to DataFrame for easier handling\n",
    "df = pd.DataFrame(DIET_DOCUMENTS)\n",
    "\n",
    "print(f\"Loaded {len(df)} documents.\")"
   ]
  },
  {
   "cell_type": "code",
   "execution_count": 8,
   "metadata": {
    "execution": {
     "iopub.execute_input": "2025-04-17T05:19:38.687777Z",
     "iopub.status.busy": "2025-04-17T05:19:38.687196Z",
     "iopub.status.idle": "2025-04-17T05:19:38.717749Z",
     "shell.execute_reply": "2025-04-17T05:19:38.716812Z",
     "shell.execute_reply.started": "2025-04-17T05:19:38.687700Z"
    },
    "trusted": true
   },
   "outputs": [
    {
     "data": {
      "text/html": [
       "<div>\n",
       "<style scoped>\n",
       "    .dataframe tbody tr th:only-of-type {\n",
       "        vertical-align: middle;\n",
       "    }\n",
       "\n",
       "    .dataframe tbody tr th {\n",
       "        vertical-align: top;\n",
       "    }\n",
       "\n",
       "    .dataframe thead th {\n",
       "        text-align: right;\n",
       "    }\n",
       "</style>\n",
       "<table border=\"1\" class=\"dataframe\">\n",
       "  <thead>\n",
       "    <tr style=\"text-align: right;\">\n",
       "      <th></th>\n",
       "      <th>id</th>\n",
       "      <th>condition</th>\n",
       "      <th>text</th>\n",
       "    </tr>\n",
       "  </thead>\n",
       "  <tbody>\n",
       "    <tr>\n",
       "      <th>0</th>\n",
       "      <td>doc1</td>\n",
       "      <td>Back Pain / Inflammation</td>\n",
       "      <td>\\n        **Diet Recommendations for Back Pain...</td>\n",
       "    </tr>\n",
       "    <tr>\n",
       "      <th>1</th>\n",
       "      <td>doc2</td>\n",
       "      <td>High Blood Pressure (Hypertension)</td>\n",
       "      <td>\\n        **Diet Recommendations for High Bloo...</td>\n",
       "    </tr>\n",
       "    <tr>\n",
       "      <th>2</th>\n",
       "      <td>doc3</td>\n",
       "      <td>Type 2 Diabetes Management</td>\n",
       "      <td>\\n        **Diet Recommendations for Type 2 Di...</td>\n",
       "    </tr>\n",
       "    <tr>\n",
       "      <th>3</th>\n",
       "      <td>doc4</td>\n",
       "      <td>General Healthy Eating / Weight Management</td>\n",
       "      <td>\\n        **General Healthy Eating &amp; Weight Ma...</td>\n",
       "    </tr>\n",
       "    <tr>\n",
       "      <th>4</th>\n",
       "      <td>doc5</td>\n",
       "      <td>Iron Deficiency Anemia</td>\n",
       "      <td>\\n        **Diet Recommendations for Iron Defi...</td>\n",
       "    </tr>\n",
       "  </tbody>\n",
       "</table>\n",
       "</div>"
      ],
      "text/plain": [
       "     id                                   condition  \\\n",
       "0  doc1                    Back Pain / Inflammation   \n",
       "1  doc2          High Blood Pressure (Hypertension)   \n",
       "2  doc3                  Type 2 Diabetes Management   \n",
       "3  doc4  General Healthy Eating / Weight Management   \n",
       "4  doc5                      Iron Deficiency Anemia   \n",
       "\n",
       "                                                text  \n",
       "0  \\n        **Diet Recommendations for Back Pain...  \n",
       "1  \\n        **Diet Recommendations for High Bloo...  \n",
       "2  \\n        **Diet Recommendations for Type 2 Di...  \n",
       "3  \\n        **General Healthy Eating & Weight Ma...  \n",
       "4  \\n        **Diet Recommendations for Iron Defi...  "
      ]
     },
     "metadata": {},
     "output_type": "display_data"
    }
   ],
   "source": [
    "display(df.head())"
   ]
  },
  {
   "cell_type": "markdown",
   "metadata": {},
   "source": [
    "## 4. Initialize models (Embedding and Generative)\n",
    "\n",
    "We need two models: one for creating text embeddings and one for generating responses (Gemini)."
   ]
  },
  {
   "cell_type": "markdown",
   "metadata": {},
   "source": [
    "List of available models."
   ]
  },
  {
   "cell_type": "code",
   "execution_count": 9,
   "metadata": {
    "execution": {
     "iopub.execute_input": "2025-04-17T05:19:42.354684Z",
     "iopub.status.busy": "2025-04-17T05:19:42.353317Z",
     "iopub.status.idle": "2025-04-17T05:19:42.360960Z",
     "shell.execute_reply": "2025-04-17T05:19:42.359645Z",
     "shell.execute_reply.started": "2025-04-17T05:19:42.354638Z"
    },
    "trusted": true
   },
   "outputs": [
    {
     "name": "stdout",
     "output_type": "stream",
     "text": [
      "list_files\n",
      "list_models\n",
      "list_operations\n",
      "list_tuned_models\n"
     ]
    }
   ],
   "source": [
    "for method in dir(genai_default):\n",
    "    if \"list\" in method:\n",
    "        print(method)"
   ]
  },
  {
   "cell_type": "code",
   "execution_count": 10,
   "metadata": {
    "execution": {
     "iopub.execute_input": "2025-04-17T05:19:45.969110Z",
     "iopub.status.busy": "2025-04-17T05:19:45.968789Z",
     "iopub.status.idle": "2025-04-17T05:19:46.150146Z",
     "shell.execute_reply": "2025-04-17T05:19:46.149122Z",
     "shell.execute_reply.started": "2025-04-17T05:19:45.969088Z"
    },
    "trusted": true
   },
   "outputs": [
    {
     "name": "stdout",
     "output_type": "stream",
     "text": [
      "models/chat-bison-001\n",
      "models/text-bison-001\n",
      "models/embedding-gecko-001\n",
      "models/gemini-1.0-pro-vision-latest\n",
      "models/gemini-pro-vision\n",
      "models/gemini-1.5-pro-latest\n",
      "models/gemini-1.5-pro-001\n",
      "models/gemini-1.5-pro-002\n",
      "models/gemini-1.5-pro\n",
      "models/gemini-1.5-flash-latest\n",
      "models/gemini-1.5-flash-001\n",
      "models/gemini-1.5-flash-001-tuning\n",
      "models/gemini-1.5-flash\n",
      "models/gemini-1.5-flash-002\n",
      "models/gemini-1.5-flash-8b\n",
      "models/gemini-1.5-flash-8b-001\n",
      "models/gemini-1.5-flash-8b-latest\n",
      "models/gemini-1.5-flash-8b-exp-0827\n",
      "models/gemini-1.5-flash-8b-exp-0924\n",
      "models/gemini-2.5-pro-exp-03-25\n",
      "models/gemini-2.5-pro-preview-03-25\n",
      "models/gemini-2.0-flash-exp\n",
      "models/gemini-2.0-flash\n",
      "models/gemini-2.0-flash-001\n",
      "models/gemini-2.0-flash-exp-image-generation\n",
      "models/gemini-2.0-flash-lite-001\n",
      "models/gemini-2.0-flash-lite\n",
      "models/gemini-2.0-flash-lite-preview-02-05\n",
      "models/gemini-2.0-flash-lite-preview\n",
      "models/gemini-2.0-pro-exp\n",
      "models/gemini-2.0-pro-exp-02-05\n",
      "models/gemini-exp-1206\n",
      "models/gemini-2.0-flash-thinking-exp-01-21\n",
      "models/gemini-2.0-flash-thinking-exp\n",
      "models/gemini-2.0-flash-thinking-exp-1219\n",
      "models/learnlm-1.5-pro-experimental\n",
      "models/gemma-3-1b-it\n",
      "models/gemma-3-4b-it\n",
      "models/gemma-3-12b-it\n",
      "models/gemma-3-27b-it\n",
      "models/embedding-001\n",
      "models/text-embedding-004\n",
      "models/gemini-embedding-exp-03-07\n",
      "models/gemini-embedding-exp\n",
      "models/aqa\n",
      "models/imagen-3.0-generate-002\n",
      "models/gemini-2.0-flash-live-001\n"
     ]
    }
   ],
   "source": [
    "for model in genai_default.list_models():\n",
    "    print(model.name)"
   ]
  },
  {
   "cell_type": "code",
   "execution_count": 11,
   "metadata": {
    "execution": {
     "iopub.execute_input": "2025-04-17T05:20:02.406695Z",
     "iopub.status.busy": "2025-04-17T05:20:02.406363Z",
     "iopub.status.idle": "2025-04-17T05:20:02.413447Z",
     "shell.execute_reply": "2025-04-17T05:20:02.412089Z",
     "shell.execute_reply.started": "2025-04-17T05:20:02.406672Z"
    },
    "trusted": true
   },
   "outputs": [
    {
     "name": "stdout",
     "output_type": "stream",
     "text": [
      "Models initialized:\n",
      "  Embedding Model: models/text-embedding-004\n",
      "  Generative Model: models/gemini-2.0-flash\n"
     ]
    }
   ],
   "source": [
    "# --- Model Initialization ---\n",
    "# Using the free embedding model from Google AI\n",
    "embedding_model = genai_default.GenerativeModel('models/text-embedding-004')\n",
    "\n",
    "# Using Gemini Pro for generation\n",
    "generative_model = genai_default.GenerativeModel('gemini-2.0-flash')\n",
    "\n",
    "print(\"Models initialized:\")\n",
    "print(f\"  Embedding Model: {embedding_model.model_name}\")\n",
    "print(f\"  Generative Model: {generative_model.model_name}\")"
   ]
  },
  {
   "cell_type": "markdown",
   "metadata": {},
   "source": [
    "## 5. Create Text Embeddings\n",
    "\n",
    "Define a function to embed text using the initialized embedding model. We'll handle potential API errors and rate limits."
   ]
  },
  {
   "cell_type": "code",
   "execution_count": 12,
   "metadata": {
    "execution": {
     "iopub.execute_input": "2025-04-17T05:20:06.820927Z",
     "iopub.status.busy": "2025-04-17T05:20:06.820576Z",
     "iopub.status.idle": "2025-04-17T05:20:06.826758Z",
     "shell.execute_reply": "2025-04-17T05:20:06.825749Z",
     "shell.execute_reply.started": "2025-04-17T05:20:06.820903Z"
    },
    "trusted": true
   },
   "outputs": [],
   "source": [
    "# --- Embedding Function ---\n",
    "def embed_text(text, task_type=\"retrieval_document\"):\n",
    "    \"\"\"Embeds text using the Google AI embedding model.\"\"\"\n",
    "    try:\n",
    "        # Note: Task type can be 'retrieval_query', 'retrieval_document', 'semantic_similarity', etc.\n",
    "        embedding = genai_default.embed_content(model=embedding_model.model_name,\n",
    "                                        content=text,\n",
    "                                        task_type=task_type)\n",
    "        return embedding['embedding']\n",
    "    except Exception as e:\n",
    "        print(f\"Error embedding text: {text[:50]}... Error: {e}\")\n",
    "        # Implement retry logic if needed, especially for rate limits\n",
    "        # time.sleep(1) # Simple backoff\n",
    "        return None # Return None if embedding fails"
   ]
  },
  {
   "cell_type": "markdown",
   "metadata": {},
   "source": [
    "## 6. Set up Vector Database (ChromaDB)\n",
    "\n",
    "We'll use ChromaDB as an in-memory vector store. We'll embed our diet documents and store them."
   ]
  },
  {
   "cell_type": "code",
   "execution_count": 13,
   "metadata": {
    "execution": {
     "iopub.execute_input": "2025-04-17T05:20:11.393886Z",
     "iopub.status.busy": "2025-04-17T05:20:11.393548Z",
     "iopub.status.idle": "2025-04-17T05:20:16.167922Z",
     "shell.execute_reply": "2025-04-17T05:20:16.166917Z",
     "shell.execute_reply.started": "2025-04-17T05:20:11.393863Z"
    },
    "trusted": true
   },
   "outputs": [
    {
     "name": "stdout",
     "output_type": "stream",
     "text": [
      "Collection 'diet_recommendations' does not exist, creating new one.\n",
      "Collection 'diet_recommendations' created.\n",
      "Embedding documents and adding to ChromaDB...\n",
      "Successfully added 10 documents to the collection.\n"
     ]
    }
   ],
   "source": [
    "# --- ChromaDB Setup ---\n",
    "# Using an in-memory client for simplicity in Kaggle\n",
    "client = chromadb.Client()\n",
    "\n",
    "# Create a collection (like a table in a relational database)\n",
    "DB_COLLECTION_NAME = \"diet_recommendations\"\n",
    "\n",
    "try:\n",
    "    # Check if collection exists, delete if it does (for clean runs in notebook)\n",
    "    client.delete_collection(name=DB_COLLECTION_NAME)\n",
    "    print(f\"Existing collection '{DB_COLLECTION_NAME}' deleted.\")\n",
    "except Exception:\n",
    "    print(f\"Collection '{DB_COLLECTION_NAME}' does not exist, creating new one.\")\n",
    "    pass # Collection doesn't exist, no need to delete\n",
    "\n",
    "# Using cosine distance as it's often good for semantic similarity\n",
    "db_collection = client.create_collection(name=DB_COLLECTION_NAME, metadata={\"hnsw:space\": \"cosine\"})\n",
    "print(f\"Collection '{DB_COLLECTION_NAME}' created.\")\n",
    "\n",
    "# --- Embed and Store Documents ---\n",
    "print(\"Embedding documents and adding to ChromaDB...\")\n",
    "doc_embeddings = []\n",
    "doc_ids = []\n",
    "doc_texts = []\n",
    "doc_metadatas = []\n",
    "\n",
    "for index, row in df.iterrows():\n",
    "    text_to_embed = f\"Condition: {row['condition']}\\nDetails: {row['text']}\" # Combine condition and text for embedding\n",
    "    embedding = embed_text(text_to_embed)\n",
    "    if embedding:\n",
    "        doc_embeddings.append(embedding)\n",
    "        doc_ids.append(row['id'])\n",
    "        doc_texts.append(row['text']) # Store the original text for retrieval context\n",
    "        doc_metadatas.append({\"condition\": row['condition']}) # Store condition as metadata\n",
    "    else:\n",
    "        print(f\"Skipping document id {row['id']} due to embedding error.\")\n",
    "    # Add a small delay to avoid hitting potential rate limits if embedding many docs\n",
    "    time.sleep(0.2)\n",
    "\n",
    "if doc_embeddings:\n",
    "    db_collection.add(\n",
    "        embeddings=doc_embeddings,\n",
    "        documents=doc_texts, # Store the main text content\n",
    "        metadatas=doc_metadatas, # Store associated metadata\n",
    "        ids=doc_ids\n",
    "    )\n",
    "    print(f\"Successfully added {db_collection.count()} documents to the collection.\")\n",
    "else:\n",
    "    print(\"No documents were successfully embedded and added.\")"
   ]
  },
  {
   "cell_type": "markdown",
   "metadata": {},
   "source": [
    "Confirm that n documents were inserted by looking at the database."
   ]
  },
  {
   "cell_type": "code",
   "execution_count": 14,
   "metadata": {
    "execution": {
     "iopub.execute_input": "2025-04-17T05:20:31.826094Z",
     "iopub.status.busy": "2025-04-17T05:20:31.825658Z",
     "iopub.status.idle": "2025-04-17T05:20:31.833340Z",
     "shell.execute_reply": "2025-04-17T05:20:31.832408Z",
     "shell.execute_reply.started": "2025-04-17T05:20:31.826062Z"
    },
    "trusted": true
   },
   "outputs": [
    {
     "data": {
      "text/plain": [
       "10"
      ]
     },
     "execution_count": 14,
     "metadata": {},
     "output_type": "execute_result"
    }
   ],
   "source": [
    "db_collection.count()"
   ]
  },
  {
   "cell_type": "markdown",
   "metadata": {},
   "source": [
    "See that 10 documents were added to the vector database\n",
    "\n",
    "Now, we can take a look at instances of the database"
   ]
  },
  {
   "cell_type": "code",
   "execution_count": 15,
   "metadata": {
    "execution": {
     "iopub.execute_input": "2025-04-17T05:20:38.984077Z",
     "iopub.status.busy": "2025-04-17T05:20:38.983765Z",
     "iopub.status.idle": "2025-04-17T05:20:38.999962Z",
     "shell.execute_reply": "2025-04-17T05:20:38.999046Z",
     "shell.execute_reply.started": "2025-04-17T05:20:38.984055Z"
    },
    "trusted": true
   },
   "outputs": [
    {
     "data": {
      "text/plain": [
       "{'ids': ['doc1'],\n",
       " 'embeddings': array([[ 2.24343613e-02, -1.11806439e-03, -3.93180624e-02,\n",
       "         -1.05187027e-02,  2.20988058e-02,  1.99093353e-02,\n",
       "          1.88463461e-02,  1.34808868e-02,  6.77688271e-02,\n",
       "         -1.13136163e-02, -3.31578730e-03,  6.97369725e-02,\n",
       "          5.21268286e-02, -2.58815289e-02, -6.81063458e-02,\n",
       "         -6.71374202e-02,  4.96869832e-02, -5.70399081e-03,\n",
       "         -6.07132800e-02, -2.22700872e-02,  1.68578554e-04,\n",
       "         -3.45429592e-02,  3.73102762e-02, -5.27380109e-02,\n",
       "         -6.19657822e-02,  2.77980193e-02, -1.08931828e-02,\n",
       "          2.94834655e-03,  5.42862304e-02, -3.30167003e-02,\n",
       "          2.18391456e-02,  4.45113797e-03,  4.93130647e-02,\n",
       "         -1.40896915e-02,  2.55743992e-02, -4.62442487e-02,\n",
       "         -3.70086208e-02, -3.24824899e-02,  5.83816655e-02,\n",
       "         -4.31004576e-02, -4.78704795e-02,  1.53659598e-03,\n",
       "         -2.68888427e-03, -8.92160088e-03, -3.46407294e-02,\n",
       "         -2.45727394e-02, -1.50531884e-02,  5.87606654e-02,\n",
       "          3.65673862e-02,  7.00769871e-02, -3.91976722e-03,\n",
       "          5.40024750e-02, -4.55306806e-02,  1.40770432e-02,\n",
       "         -1.82372648e-02, -2.65818555e-02, -3.09063811e-02,\n",
       "          2.45756451e-02,  1.06286397e-02,  1.39358137e-02,\n",
       "          3.35909170e-03, -5.49431071e-02, -2.79043093e-02,\n",
       "         -1.71991643e-02,  1.10577513e-02, -5.36899976e-02,\n",
       "         -6.76243529e-02,  1.07077323e-02, -3.51274241e-04,\n",
       "         -6.82553649e-03, -7.26520941e-02,  5.00477403e-02,\n",
       "         -4.33708988e-02,  2.91023459e-02, -1.98237761e-03,\n",
       "          7.02187195e-02, -8.05491814e-04, -8.63678306e-02,\n",
       "         -2.12435834e-02,  5.53025715e-02, -2.20094863e-02,\n",
       "         -2.75444761e-02,  5.95986880e-02,  7.66759515e-02,\n",
       "         -2.07068454e-02, -1.02675389e-02,  9.44346748e-03,\n",
       "          6.76292880e-03, -2.41800044e-02,  2.60764491e-02,\n",
       "          2.88641416e-02, -3.68701317e-03, -4.69606509e-03,\n",
       "          3.65395658e-02,  7.32465014e-02, -2.80932114e-02,\n",
       "         -1.03340201e-01, -5.35105094e-02,  3.36741693e-02,\n",
       "          1.97253432e-02,  1.56066269e-02, -2.93729175e-02,\n",
       "          7.21110106e-02, -1.25348344e-01,  6.79936260e-02,\n",
       "          4.09681424e-02,  1.01647917e-02, -2.41098981e-02,\n",
       "         -6.87598959e-02, -6.69032801e-03,  3.15735713e-02,\n",
       "         -4.07351442e-02, -3.32029797e-02, -2.49933973e-02,\n",
       "          1.48781380e-02,  1.75246056e-02,  6.48368895e-03,\n",
       "         -1.41270859e-02, -5.23454733e-02, -4.90981247e-03,\n",
       "          4.17566337e-02,  2.34838799e-02, -8.85089952e-03,\n",
       "          5.81757613e-02,  7.90117756e-02,  1.38218096e-03,\n",
       "          4.55706045e-02, -1.68226250e-02, -1.59737244e-02,\n",
       "         -5.85937016e-02,  6.88739792e-02, -7.55959749e-02,\n",
       "          3.69064435e-02, -4.22889329e-02, -1.41360974e-02,\n",
       "         -9.36927088e-03,  5.70436418e-02, -2.26114895e-02,\n",
       "          1.88550130e-02,  2.74114423e-02, -7.93910865e-03,\n",
       "          5.05573396e-03, -3.25817354e-02,  2.78395675e-02,\n",
       "         -2.59727016e-02, -5.94813265e-02,  5.37877902e-02,\n",
       "          4.91726361e-02, -3.53805646e-02, -2.79739313e-02,\n",
       "         -2.71304194e-02, -4.52643819e-02,  5.01818098e-02,\n",
       "         -1.43939843e-02, -1.23767620e-02,  8.07126705e-03,\n",
       "          1.36139095e-02, -6.31877361e-03, -3.45694050e-02,\n",
       "         -1.48689356e-02,  2.23544519e-02, -3.71598788e-02,\n",
       "          3.68371196e-02,  4.05082218e-02, -7.38999844e-02,\n",
       "          1.59930289e-02, -3.80134257e-03, -6.16952293e-02,\n",
       "         -5.12067601e-02,  2.05509667e-03,  1.54962940e-02,\n",
       "         -3.98704857e-02, -4.89308946e-02, -1.80810109e-01,\n",
       "          2.36952081e-02,  6.70852931e-03, -5.58877969e-03,\n",
       "          3.90940392e-03, -8.04665126e-03, -5.19608036e-02,\n",
       "          3.13159786e-02, -6.93854317e-03,  3.33394893e-02,\n",
       "         -5.57653606e-02,  4.93972115e-02,  2.51909215e-02,\n",
       "          5.68383373e-02, -7.09763402e-03,  1.45454062e-04,\n",
       "          1.74535867e-02, -2.31766072e-03, -3.10938507e-02,\n",
       "         -1.02217617e-02,  1.84486285e-02, -3.61208878e-02,\n",
       "          4.29287329e-02,  6.93277502e-03, -2.23793066e-03,\n",
       "         -4.18230742e-02, -3.74113694e-02, -2.91779619e-02,\n",
       "         -5.67726642e-02,  2.58299732e-03, -2.36851089e-02,\n",
       "         -2.78486256e-02,  2.85375770e-02, -2.45824400e-02,\n",
       "          1.47327632e-02, -2.90719531e-02, -3.79284248e-02,\n",
       "         -2.00104923e-03,  3.04606706e-02, -2.32660007e-02,\n",
       "         -3.59575041e-02,  4.98199351e-02, -6.14605844e-03,\n",
       "          4.69455117e-04, -2.92230900e-02,  5.31276036e-03,\n",
       "         -2.63578463e-02,  1.41731417e-02, -6.28289999e-03,\n",
       "          5.27657308e-02,  4.32947185e-03,  2.67742872e-02,\n",
       "         -4.42803418e-03, -6.61948323e-02, -2.55326740e-02,\n",
       "          1.80776771e-02,  7.00347358e-03, -2.51734983e-02,\n",
       "          2.93137506e-02, -1.40955690e-02, -3.06163207e-02,\n",
       "          2.47853454e-02, -1.39604998e-03,  3.61702889e-02,\n",
       "         -5.16368598e-02, -1.86328609e-02, -2.57157665e-02,\n",
       "         -6.66682571e-02,  6.01942353e-02,  1.01119801e-01,\n",
       "         -1.22363102e-02, -5.30850561e-03, -9.50548872e-02,\n",
       "          4.22044359e-02,  1.81688406e-02,  2.86976155e-02,\n",
       "         -5.12736524e-03,  7.21973255e-02,  2.41072737e-02,\n",
       "          4.52588871e-02,  1.40613422e-03,  5.89989685e-03,\n",
       "         -3.92469577e-02,  4.91697751e-02, -1.29190832e-02,\n",
       "          2.18280144e-02, -2.90794298e-02, -9.32898279e-03,\n",
       "         -3.07035334e-02, -2.37325430e-02, -7.75122792e-02,\n",
       "         -1.95011422e-02, -5.77788092e-02,  1.72841623e-02,\n",
       "          4.94523123e-02,  6.81625605e-02, -4.67825972e-04,\n",
       "          4.18210290e-02, -7.20784366e-02,  1.36597976e-02,\n",
       "          5.83283929e-03, -3.55332112e-03, -3.83689860e-03,\n",
       "         -7.17300863e-04, -7.97126815e-03, -1.65472329e-02,\n",
       "         -6.97224960e-03,  4.37419750e-02,  9.40800365e-03,\n",
       "          1.90781672e-02, -6.00301893e-03,  1.82841811e-02,\n",
       "         -2.65333541e-02, -4.83187512e-02, -7.55295297e-03,\n",
       "         -5.54879457e-02, -6.18814398e-03,  6.37070276e-03,\n",
       "         -2.17751190e-02, -8.08246434e-03,  1.27628807e-03,\n",
       "          6.03549629e-02,  2.47374605e-02,  6.47444203e-02,\n",
       "          6.43190220e-02, -4.77496870e-02, -3.54588479e-02,\n",
       "          9.88534465e-03,  5.76462261e-02, -4.94976901e-02,\n",
       "          1.12978751e-02, -4.28018495e-02, -1.89406238e-02,\n",
       "         -1.37696862e-02,  1.63062736e-02, -4.49670330e-02,\n",
       "          4.34973501e-02,  1.78064071e-02,  1.76133774e-02,\n",
       "         -2.64316029e-03,  1.61734258e-03, -3.94453295e-02,\n",
       "         -2.82541513e-02, -7.08052889e-02, -1.81377865e-02,\n",
       "          1.33402776e-02, -1.67534570e-03,  7.97831826e-03,\n",
       "          1.59268454e-02,  6.77147135e-02,  2.27668025e-02,\n",
       "         -3.07948589e-02, -1.39573673e-02,  3.72902788e-02,\n",
       "          4.68667550e-03,  2.53448281e-02, -5.02108037e-03,\n",
       "          5.52237071e-02, -8.79028160e-03, -3.17963548e-02,\n",
       "         -6.04513520e-03,  1.82736095e-03,  1.54935820e-02,\n",
       "         -2.61184219e-02,  1.05293840e-02,  9.21098143e-02,\n",
       "          2.46415641e-02,  1.17280614e-02,  5.13863787e-02,\n",
       "          5.14816940e-02,  7.39063621e-02,  8.53412598e-03,\n",
       "         -3.31704393e-02,  5.60840853e-02,  1.30990762e-02,\n",
       "          4.50840779e-02,  1.81224048e-02, -2.80587282e-02,\n",
       "         -1.39982123e-02,  1.30199138e-02,  1.35223363e-02,\n",
       "          2.57347971e-02, -2.64003058e-03, -2.83657834e-02,\n",
       "          1.59826949e-02,  6.19378826e-03,  4.40815352e-02,\n",
       "          4.26442269e-03,  1.17103225e-02,  5.97248552e-03,\n",
       "          2.89098956e-02,  3.26772630e-02, -1.46863498e-02,\n",
       "          3.97230871e-02,  9.48824286e-02, -1.92805491e-02,\n",
       "          2.03727540e-02,  2.47019287e-02,  2.27377340e-02,\n",
       "         -1.74546510e-03,  2.94278171e-02,  2.39507407e-02,\n",
       "         -1.31517621e-02, -4.06317674e-02,  4.88299504e-02,\n",
       "         -1.78040769e-02,  2.26939633e-03, -7.66758397e-02,\n",
       "         -3.80530655e-02, -5.37166335e-02,  1.76514629e-02,\n",
       "         -3.19882631e-02,  6.29132390e-02, -6.66219667e-02,\n",
       "         -4.08390909e-02, -7.27174745e-04, -3.14622633e-02,\n",
       "          5.19917626e-03, -4.94435709e-03,  2.01578252e-02,\n",
       "          7.69721642e-02, -9.97960847e-03,  2.76706368e-02,\n",
       "          5.08851605e-03,  9.06353380e-05, -3.60341482e-02,\n",
       "          5.61672337e-02,  3.54584754e-02,  2.88367476e-02,\n",
       "          6.30162433e-02, -2.38695759e-02,  1.35132764e-02,\n",
       "         -2.99996193e-02,  4.36372496e-02,  2.00238009e-03,\n",
       "          8.06981232e-03,  1.91590209e-02,  2.11893544e-02,\n",
       "          2.77531799e-02, -2.96541490e-02, -3.80979255e-02,\n",
       "         -4.65885699e-02, -7.20951781e-02, -1.16593186e-02,\n",
       "          6.80245832e-03, -8.89683887e-03,  3.08328364e-02,\n",
       "         -3.68229635e-02,  1.65941063e-02,  2.83872467e-02,\n",
       "         -9.21175350e-03, -6.88869506e-02, -2.28240620e-02,\n",
       "         -1.53931836e-02,  3.89018245e-02, -1.51536902e-02,\n",
       "         -2.01265770e-03,  3.54857519e-02,  7.68773481e-02,\n",
       "         -8.37796554e-03,  4.94319806e-03, -3.73502746e-02,\n",
       "          5.77704124e-02,  4.49100845e-02, -2.96588782e-02,\n",
       "         -5.18224947e-02,  3.58164273e-02, -2.35278681e-02,\n",
       "          2.98762769e-02,  1.51979756e-02,  2.17368267e-02,\n",
       "         -7.67435820e-04,  4.66353726e-03,  1.77089032e-02,\n",
       "         -8.59270617e-03, -1.44654447e-02, -4.45248336e-02,\n",
       "          1.27940290e-02,  4.14242782e-02,  4.56998870e-02,\n",
       "         -3.11119929e-02, -2.03999430e-02,  1.76909252e-03,\n",
       "          1.34420758e-02, -3.06783663e-03,  2.35274993e-02,\n",
       "         -9.59441066e-03, -6.17416464e-02,  1.95776783e-02,\n",
       "          5.48632294e-02, -1.74734071e-02, -1.59307662e-02,\n",
       "          7.39426538e-03, -2.25315746e-02, -1.55338142e-02,\n",
       "         -7.49733970e-02,  1.53175583e-02,  7.92921484e-02,\n",
       "         -7.41906650e-03,  1.09784603e-02,  2.07895227e-02,\n",
       "         -8.30843225e-02, -3.85555327e-02, -5.75416116e-03,\n",
       "          6.15002178e-02,  5.69835864e-03, -1.52623970e-02,\n",
       "          1.42259346e-02, -2.97956411e-02, -2.84809060e-03,\n",
       "          1.18541522e-02,  4.35451865e-02, -5.57347834e-02,\n",
       "         -6.52914401e-03,  3.19372378e-02, -2.87992209e-02,\n",
       "          3.56672630e-02, -3.72409858e-02,  3.36924084e-02,\n",
       "         -4.72664228e-03, -2.65667606e-02, -1.89736262e-02,\n",
       "          4.88994224e-03,  2.59794462e-02, -2.30184570e-02,\n",
       "         -8.42404738e-03,  2.64619682e-02,  7.11813420e-02,\n",
       "         -5.63148744e-02, -1.15394127e-02, -2.69760247e-02,\n",
       "         -3.88244949e-02, -1.79784689e-02, -5.35506010e-02,\n",
       "          1.84130799e-02,  3.22898887e-02,  7.07670301e-02,\n",
       "         -1.55547969e-02, -4.29820418e-02, -3.01134563e-03,\n",
       "         -5.98337129e-03, -6.03321940e-03, -2.40952093e-02,\n",
       "         -1.15650725e-02,  6.40454441e-02, -3.03802583e-02,\n",
       "          3.48639823e-02,  4.02405784e-02,  2.10617464e-02,\n",
       "          7.53589869e-02,  2.79978439e-02,  2.01893616e-02,\n",
       "          8.22552666e-03,  1.63621325e-02, -1.19388252e-02,\n",
       "          5.03085461e-03, -4.97585014e-02,  4.53076698e-03,\n",
       "          9.71485302e-02,  1.12977847e-02,  1.35850664e-02,\n",
       "          1.72266960e-02,  5.09064719e-02,  3.26944701e-02,\n",
       "         -4.11906317e-02,  1.95675204e-03,  2.74654496e-02,\n",
       "         -2.89881025e-02, -3.10961693e-03,  1.26502058e-02,\n",
       "          1.38138253e-02,  4.96461093e-02, -2.32581403e-02,\n",
       "         -1.33796144e-04,  5.65340221e-02,  1.69121344e-02,\n",
       "          8.14050213e-02, -4.40709181e-02, -2.92602722e-02,\n",
       "         -1.29652256e-02,  9.18847229e-03, -8.22248476e-05,\n",
       "         -3.98671776e-02,  5.34428889e-03, -6.04314208e-02,\n",
       "          2.81117000e-02, -5.75959608e-02,  6.13415837e-02,\n",
       "         -7.75147974e-03, -1.07950214e-02, -3.63653451e-02,\n",
       "          2.66701425e-03, -1.32617485e-02, -3.69419120e-02,\n",
       "          4.03772108e-02,  1.58317015e-02,  5.39898779e-03,\n",
       "          1.79578122e-02, -2.21534930e-02,  1.32432431e-02,\n",
       "         -3.86309065e-02,  3.94637510e-02, -1.40391467e-02,\n",
       "         -9.66002140e-03, -2.01918744e-02, -2.58020442e-02,\n",
       "         -4.84380173e-04, -1.06063979e-02,  3.18611898e-02,\n",
       "          5.68415178e-03,  1.08237471e-02,  4.52098027e-02,\n",
       "          1.23527637e-02,  1.49470568e-02,  2.71550175e-02,\n",
       "          7.71945808e-03, -8.16884078e-03, -7.18464851e-02,\n",
       "          6.24257550e-02, -2.19953293e-03, -1.37867508e-02,\n",
       "          1.79023296e-02, -4.66796122e-02, -5.53267114e-02,\n",
       "          1.15497867e-02,  3.57601047e-02, -3.28950258e-03,\n",
       "         -1.10372193e-02, -1.87435858e-02,  4.68212105e-02,\n",
       "          4.45596054e-02, -4.65119891e-02,  1.12890149e-03,\n",
       "         -2.20646476e-03, -6.15283363e-02, -1.20689757e-02,\n",
       "         -3.82232517e-02,  7.91236013e-03,  2.63233744e-02,\n",
       "         -6.39784476e-03,  1.96678191e-03, -5.34400456e-02,\n",
       "         -4.42216992e-02, -4.83949408e-02,  3.32795945e-03,\n",
       "         -3.28308865e-02,  5.31525537e-02,  1.16138579e-02,\n",
       "          1.45215113e-02,  1.90608967e-02,  8.52296967e-03,\n",
       "         -6.82754070e-02, -1.10915340e-02,  1.38553148e-02,\n",
       "         -2.51561496e-03, -2.08162982e-02, -2.31949873e-02,\n",
       "         -2.54251007e-02, -9.39932303e-04,  9.92313121e-03,\n",
       "         -2.78008617e-02, -1.07091554e-01,  7.39561468e-02,\n",
       "          3.62370946e-02,  1.35835521e-02, -1.40090222e-02,\n",
       "          2.11714804e-02, -5.69617609e-04,  6.52242452e-02,\n",
       "          1.23640737e-02, -7.13440869e-03, -7.73153901e-02,\n",
       "          1.68874464e-03, -1.07653495e-02, -4.88183834e-03,\n",
       "          1.34373708e-02,  3.91404554e-02, -4.39408422e-02,\n",
       "          3.59290615e-02, -6.29133433e-02,  1.44999875e-02,\n",
       "          2.23265328e-02,  8.56614113e-03, -1.92403737e-02,\n",
       "          2.92139482e-02,  7.22463988e-03,  3.39071006e-02,\n",
       "         -1.25683972e-03,  2.85830791e-03,  3.45798992e-02,\n",
       "          3.35391285e-03,  6.67732861e-03,  1.91052984e-02,\n",
       "         -2.04487741e-02, -2.55495161e-02, -2.01928243e-03,\n",
       "         -3.00124232e-02, -2.95650735e-02,  8.36852565e-03,\n",
       "         -9.04959142e-02,  1.29054617e-02, -3.19901705e-02,\n",
       "         -2.94614746e-03,  4.98322537e-04, -4.28599305e-02,\n",
       "         -8.56357142e-02,  1.35943154e-02, -2.71455459e-02,\n",
       "         -3.58468145e-02,  6.25672191e-02, -3.14435102e-02,\n",
       "          8.35100189e-04,  2.64111161e-02,  3.09714186e-03,\n",
       "          2.72720470e-03, -5.55012859e-02,  1.18190888e-02,\n",
       "         -2.88865957e-02, -6.49135262e-02, -1.11986545e-03,\n",
       "         -6.21913513e-03,  1.18611380e-02,  1.50114670e-02,\n",
       "         -8.55047081e-04, -4.52245539e-03, -8.53416976e-03,\n",
       "          1.43783838e-02, -6.70606345e-02,  6.97671017e-03,\n",
       "         -5.29025123e-02,  9.89186391e-03,  2.98080537e-02,\n",
       "         -5.88473938e-02,  2.16909256e-02, -4.61057294e-03,\n",
       "         -2.97707692e-02, -4.07693684e-02, -1.69317890e-02,\n",
       "          7.45196035e-03,  2.41113571e-03,  5.08330483e-03,\n",
       "         -4.37814891e-02, -1.50101800e-02,  3.56369168e-02,\n",
       "          1.30352741e-02, -3.40644494e-02,  6.66226596e-02,\n",
       "         -3.72119509e-02, -2.80214963e-03,  1.74442846e-02,\n",
       "          3.17407330e-03,  2.45824847e-02,  3.01281549e-02,\n",
       "         -6.91221729e-02,  1.48606552e-02, -4.92801936e-03,\n",
       "         -2.49769855e-02,  2.86598615e-02,  3.85974683e-02,\n",
       "         -1.22305462e-02, -2.36556586e-02,  1.52341677e-02,\n",
       "         -2.76720952e-02,  7.71866925e-03, -5.71941771e-02,\n",
       "         -1.89889297e-02, -2.67489981e-02, -1.75198819e-03,\n",
       "         -3.93219516e-02, -1.07456627e-03, -1.89931430e-02,\n",
       "          3.38427387e-02,  1.36922114e-02, -8.14129878e-03,\n",
       "          2.37105452e-02, -1.98917487e-03,  7.20060989e-03,\n",
       "         -5.27454428e-02,  1.55533303e-03,  4.44826037e-02,\n",
       "          6.60831034e-02,  6.85731508e-03, -2.59536225e-02,\n",
       "          1.39914826e-02, -1.63424481e-02,  6.27035229e-03,\n",
       "          5.11758961e-02, -3.69405448e-02,  1.74650159e-02,\n",
       "         -2.68207490e-02, -2.95170844e-02, -1.00370079e-01,\n",
       "          1.43484119e-03,  1.18780800e-03, -6.37942273e-03]]),\n",
       " 'documents': ['\\n        **Diet Recommendations for Back Pain & Inflammation:**\\n\\n        *Focus on anti-inflammatory foods.*\\n\\n        **Fruits:** Berries (blueberries, strawberries, raspberries), cherries, pineapple, oranges, apples. These are rich in antioxidants and vitamins.\\n        **Vegetables:** Leafy greens (spinach, kale, Swiss chard), broccoli, bell peppers, carrots, sweet potatoes. Packed with vitamins, minerals, and fiber.\\n        **Meats/Proteins:** Fatty fish (salmon, mackerel, sardines - high in Omega-3s), lean poultry (chicken breast, turkey), legumes (beans, lentils), tofu, nuts, and seeds (walnuts, flaxseeds, chia seeds). Limit red meat and processed meats.\\n        **Other:** Olive oil, turmeric, ginger, green tea. Stay well-hydrated with water. Avoid sugary drinks, refined carbohydrates (white bread, pasta), fried foods, and excessive saturated fats.\\n\\n        **Simple Recipe Idea: Salmon with Roasted Veggies**\\n        *   Toss chopped sweet potatoes, broccoli florets, and red bell pepper strips with olive oil, salt, pepper, and a pinch of turmeric. Roast at 400°F (200°C) for 20-25 minutes.\\n        *   Season salmon fillets with salt, pepper, and lemon juice. Add to the baking sheet with veggies for the last 12-15 minutes of cooking, or until salmon is cooked through.\\n        *   Serve immediately.\\n        '],\n",
       " 'uris': None,\n",
       " 'included': ['metadatas', 'documents', 'embeddings'],\n",
       " 'data': None,\n",
       " 'metadatas': [{'condition': 'Back Pain / Inflammation'}]}"
      ]
     },
     "execution_count": 15,
     "metadata": {},
     "output_type": "execute_result"
    }
   ],
   "source": [
    "db_collection.peek(1)"
   ]
  },
  {
   "cell_type": "markdown",
   "metadata": {},
   "source": [
    "## 7. Retrieval Function\n",
    "\n",
    "Create a function to retrieve relevant documents from ChromaDB based on a user's query."
   ]
  },
  {
   "cell_type": "code",
   "execution_count": 16,
   "metadata": {
    "execution": {
     "iopub.execute_input": "2025-04-17T05:20:51.438197Z",
     "iopub.status.busy": "2025-04-17T05:20:51.437883Z",
     "iopub.status.idle": "2025-04-17T05:20:51.444242Z",
     "shell.execute_reply": "2025-04-17T05:20:51.443394Z",
     "shell.execute_reply.started": "2025-04-17T05:20:51.438175Z"
    },
    "trusted": true
   },
   "outputs": [],
   "source": [
    "# --- Retrieval Function ---\n",
    "def retrieve_relevant_documents(query, n_results=2):\n",
    "    \"\"\"Retrieves relevant documents from ChromaDB based on the query.\"\"\"\n",
    "    if not query:\n",
    "        return []\n",
    "\n",
    "    query_embedding = embed_text(query, task_type=\"retrieval_query\")\n",
    "\n",
    "    if query_embedding is None:\n",
    "        print(\"Failed to embed query.\")\n",
    "        return []\n",
    "\n",
    "    try:\n",
    "        results = db_collection.query(\n",
    "            query_embeddings=[query_embedding],\n",
    "            n_results=n_results,\n",
    "            include=['documents', 'metadatas', 'distances'] # Include distances for potential filtering/ranking\n",
    "        )\n",
    "        # print(f\"ChromaDB Results: {results}\") # Debug print\n",
    "        # Extracting documents - results['documents'] is a list containing one list of results\n",
    "        retrieved_docs = results.get('documents', [[]])[0]\n",
    "        return retrieved_docs\n",
    "    except Exception as e:\n",
    "        print(f\"Error querying ChromaDB: {e}\")\n",
    "        return []"
   ]
  },
  {
   "cell_type": "markdown",
   "metadata": {},
   "source": [
    "Retrieval function is set. We can test run it to find relevant documents"
   ]
  },
  {
   "cell_type": "code",
   "execution_count": 17,
   "metadata": {
    "execution": {
     "iopub.execute_input": "2025-04-17T05:20:57.284882Z",
     "iopub.status.busy": "2025-04-17T05:20:57.284512Z",
     "iopub.status.idle": "2025-04-17T05:20:57.555845Z",
     "shell.execute_reply": "2025-04-17T05:20:57.555015Z",
     "shell.execute_reply.started": "2025-04-17T05:20:57.284858Z"
    },
    "trusted": true
   },
   "outputs": [
    {
     "name": "stdout",
     "output_type": "stream",
     "text": [
      "\n",
      "Documents relevant to 'I want to build muscle':\n",
      "--- Doc 1 ---\n"
     ]
    },
    {
     "data": {
      "text/markdown": [
       "\n",
       "        **Diet Recommendations for Building Muscle / High Protein Diet Support:**\n",
       "        \n",
       "        *Focus on adequate protein intake distributed throughout the day, paired with complex carbohydrates for energy and sufficient calories overall.*\n",
       "        \n",
       "        **Fruits:** All types are beneficial for vitamins, minerals, and antioxidants (e.g., bananas for potassium, berries for antioxidants).\n",
       "        **Vegetables:** Include a wide variety for micronutrients (e.g., spinach, broccoli, sweet potat..."
      ],
      "text/plain": [
       "<IPython.core.display.Markdown object>"
      ]
     },
     "metadata": {},
     "output_type": "display_data"
    },
    {
     "name": "stdout",
     "output_type": "stream",
     "text": [
      "--- Doc 2 ---\n"
     ]
    },
    {
     "data": {
      "text/markdown": [
       "\n",
       "        **General Healthy Eating & Weight Management Tips:**\n",
       "\n",
       "        *Focus on whole, unprocessed foods, portion control, and balanced macronutrients.*\n",
       "\n",
       "        **Fruits:** Include a variety of colorful fruits daily. Good source of vitamins, minerals, and fiber.\n",
       "        **Vegetables:** Fill half your plate with non-starchy vegetables at meals (leafy greens, broccoli, peppers, zucchini, etc.). They are nutrient-dense and low in calories.\n",
       "        **Meats/Proteins:** Choose lean protein sources (..."
      ],
      "text/plain": [
       "<IPython.core.display.Markdown object>"
      ]
     },
     "metadata": {},
     "output_type": "display_data"
    }
   ],
   "source": [
    "# Test retrieval\n",
    "test_query = \"I want to build muscle\"\n",
    "\n",
    "# Call the retrieval function\n",
    "relevant_docs = retrieve_relevant_documents(test_query)\n",
    "print(f\"\\nDocuments relevant to '{test_query}':\")\n",
    "\n",
    "for i, doc in enumerate(relevant_docs):\n",
    "     print(f\"--- Doc {i+1} ---\")\n",
    "     display(Markdown(doc[:500] + \"...\")) # Display snippet"
   ]
  },
  {
   "cell_type": "markdown",
   "metadata": {},
   "source": [
    "See that the function is doing what it supposed to. \n",
    "\n",
    "After identifying a relevant text segment during the retrieval step, the next step involves crafting a generation prompt to produce a final response using the Gemini API. While this example is only limited to a single retrieved passage (due to the small dataset), in real-world applications, particularly when working with extensive datasets this process typically require retrieving multiple passages. The Gemini model will then assess which segments are pertinent to the query. This process accommodates occasional irrelevant retrievals, as the generation step automatically filters out unrelated content during the answer build-up."
   ]
  },
  {
   "cell_type": "markdown",
   "metadata": {},
   "source": [
    "## 8. Response Generation Function\n",
    "\n",
    "This function takes the user's query and the retrieved documents, constructs a prompt for Gemini, and generates the diet recommendation response."
   ]
  },
  {
   "cell_type": "code",
   "execution_count": 18,
   "metadata": {
    "execution": {
     "iopub.execute_input": "2025-04-17T05:21:31.330425Z",
     "iopub.status.busy": "2025-04-17T05:21:31.330090Z",
     "iopub.status.idle": "2025-04-17T05:21:31.337228Z",
     "shell.execute_reply": "2025-04-17T05:21:31.336309Z",
     "shell.execute_reply.started": "2025-04-17T05:21:31.330400Z"
    },
    "trusted": true
   },
   "outputs": [],
   "source": [
    "# --- Response Generation Function ---\n",
    "def generate_response(user_problem, retrieved_docs):\n",
    "    \"\"\"Generates a diet recommendation response using Gemini and retrieved context.\"\"\"\n",
    "    if not user_problem:\n",
    "        return \"Please tell me what health condition you'd like diet recommendations for.\"\n",
    "\n",
    "    context = \"\\n\\n---\\n\\n\".join(retrieved_docs) if retrieved_docs else \"No specific context found.\"\n",
    "\n",
    "    prompt = f\"\"\"You are a friendly and helpful AI assistant acting like a personal diet planner. Your goal is to provide diet recommendations based *only* on the provided context information.\n",
    "\n",
    "    **User's Problem:** \"{user_problem}\"\n",
    "\n",
    "    **Context Information:**\n",
    "    ```\n",
    "    {context}\n",
    "    ```\n",
    "\n",
    "    **Instructions:**\n",
    "    1. Carefully review the context information related to the user's problem.\n",
    "    2. If relevant context is found, synthesize the information to provide clear diet recommendations. List specific suggestions for:\n",
    "        * Fruits\n",
    "        * Vegetables\n",
    "        * Meats/Proteins\n",
    "        * Other relevant foods/tips\n",
    "        * Suggest 1-2 simple recipe ideas mentioned or inspired by the context.\n",
    "    3. If no relevant context is found or the context doesn't match the user's problem well, state that you couldn't find specific information for that exact condition in your current knowledge base, but you can offer general healthy eating tips if they like. Do NOT invent recommendations if context is missing.\n",
    "    4. Keep the tone friendly, empathetic, and encouraging, like a family meal planner.\n",
    "    5. **Crucially:** After providing the recommendations (or stating you couldn't find specific info), ALWAYS end your response by asking: \"Do you want to discuss further details about your problem? (yes/no)\"\n",
    "\n",
    "    **Your Response:**\n",
    "    \"\"\"\n",
    "\n",
    "    # print(\"--- Sending Prompt to Gemini ---\") # Debug\n",
    "    # print(prompt) # Debug\n",
    "    # print(\"-------------------------------\") # Debug\n",
    "\n",
    "    try:\n",
    "        response = generative_model.generate_content(prompt)\n",
    "        # print(\"--- Gemini Raw Response ---\") # Debug\n",
    "        # print(response) # Debug\n",
    "        # print(\"--------------------------\") # Debug\n",
    "        return response.text\n",
    "    except Exception as e:\n",
    "        print(f\"Error generating response from Gemini: {e}\")\n",
    "        # Check for specific errors like blocked content if applicable\n",
    "        # print(f\"Candidate: {response.candidates}\")\n",
    "        return \"Sorry, I encountered an error while generating the response. Please try again.\""
   ]
  },
  {
   "cell_type": "markdown",
   "metadata": {},
   "source": [
    "The function is all set. Now here's the interesting part. We will try to interact with the model"
   ]
  },
  {
   "cell_type": "markdown",
   "metadata": {},
   "source": [
    "## 9. Main Chat Interaction Loop\n",
    "\n",
    "This loop handles the conversation flow: getting the initial problem, providing recommendations, and handling follow-up discussion."
   ]
  },
  {
   "cell_type": "code",
   "execution_count": 19,
   "metadata": {
    "execution": {
     "iopub.execute_input": "2025-04-17T05:21:44.051228Z",
     "iopub.status.busy": "2025-04-17T05:21:44.050952Z",
     "iopub.status.idle": "2025-04-17T05:23:55.813544Z",
     "shell.execute_reply": "2025-04-17T05:23:55.812780Z",
     "shell.execute_reply.started": "2025-04-17T05:21:44.051210Z"
    },
    "trusted": true
   },
   "outputs": [
    {
     "name": "stdout",
     "output_type": "stream",
     "text": [
      "AI Diet Reccomender: Hi there! I'm your friendly meal planning assistant.\n",
      "AI Diet Reccomender: I can help suggest some foods based on health conditions.\n"
     ]
    },
    {
     "name": "stdout",
     "output_type": "stream",
     "text": [
      "AI Diet Reccomender: What's your problem or health condition? (e.g., 'back pain', 'high blood pressure')\n",
      "User:  I have a back pain\n"
     ]
    },
    {
     "data": {
      "text/markdown": [
       "**AI Diet Reccomender:**\n",
       "Okay, I understand you're dealing with back pain. I've looked through my resources, and here's a diet plan that focuses on anti-inflammatory foods which may help with your back pain:\n",
       "\n",
       "**Diet Recommendations for Back Pain & Inflammation:**\n",
       "\n",
       "*Focus on anti-inflammatory foods.*\n",
       "\n",
       "*   **Fruits:** Berries (blueberries, strawberries, raspberries), cherries, pineapple, oranges, apples. These are rich in antioxidants and vitamins.\n",
       "*   **Vegetables:** Leafy greens (spinach, kale, Swiss chard), broccoli, bell peppers, carrots, sweet potatoes. Packed with vitamins, minerals, and fiber.\n",
       "*   **Meats/Proteins:** Fatty fish (salmon, mackerel, sardines - high in Omega-3s), lean poultry (chicken breast, turkey), legumes (beans, lentils), tofu, nuts, and seeds (walnuts, flaxseeds, chia seeds). Limit red meat and processed meats.\n",
       "*   **Other:** Olive oil, turmeric, ginger, green tea. Stay well-hydrated with water. Avoid sugary drinks, refined carbohydrates (white bread, pasta), fried foods, and excessive saturated fats.\n",
       "\n",
       "**Simple Recipe Idea: Salmon with Roasted Veggies**\n",
       "\n",
       "*   Toss chopped sweet potatoes, broccoli florets, and red bell pepper strips with olive oil, salt, pepper, and a pinch of turmeric. Roast at 400°F (200°C) for 20-25 minutes.\n",
       "*   Season salmon fillets with salt, pepper, and lemon juice. Add to the baking sheet with veggies for the last 12-15 minutes of cooking, or until salmon is cooked through.\n",
       "*   Serve immediately.\n",
       "\n",
       "I hope this helps you feel better! Do you want to discuss further details about your problem? (yes/no)\n"
      ],
      "text/plain": [
       "<IPython.core.display.Markdown object>"
      ]
     },
     "metadata": {},
     "output_type": "display_data"
    },
    {
     "name": "stdout",
     "output_type": "stream",
     "text": [
      "User (yes/no):  yes\n",
      "AI Diet Reccomender: Okay, what else is on your mind regarding this? Or what details would you like to discuss?\n",
      "User:  I want to build muscle too, bro!\n"
     ]
    },
    {
     "data": {
      "text/markdown": [
       "**AI Diet Reccomender:**\n",
       "Alright, bro! Building muscle while managing back pain is totally achievable, but it's gonna require a smart and balanced approach. We need to fuel those muscles while making sure we're not aggravating your back.\n",
       "\n",
       "Since you mentioned back pain, remember that inflammation can be a contributing factor. So, while we focus on building muscle, let's prioritize anti-inflammatory foods to help with recovery and pain management. Things like fatty fish (salmon, tuna), berries, leafy greens, and healthy fats (avocados, olive oil) are your friends!\n",
       "\n",
       "Now, for muscle building, protein is key. Aim for a good source of protein with every meal. Some great options that are generally back-friendly (easy to digest and less likely to cause inflammation for most people) include:\n",
       "\n",
       "*   **Lean Meats:** Chicken breast, turkey breast\n",
       "*   **Fish:** Especially the fatty kinds for those anti-inflammatory benefits\n",
       "*   **Eggs:** A complete protein source\n",
       "*   **Plant-Based:** Lentils, beans, tofu, tempeh (make sure you are digesting these well)\n",
       "*   **Whey Protein:** If tolerated. Some people find whey protein can cause digestive issues, potentially leading to inflammation.\n",
       "\n",
       "Pair your protein with complex carbohydrates for energy and fiber. Think sweet potatoes, brown rice, quinoa, and whole-grain oats. These will provide sustained energy for your workouts and help with overall health.\n",
       "\n",
       "**Important Considerations for Back Pain:**\n",
       "\n",
       "*   **Proper Form:** When lifting weights, *always* prioritize proper form. It's better to lift less weight with good form than more weight with bad form, which can easily injure your back. Consider working with a qualified trainer who can teach you proper lifting techniques.\n",
       "*   **Core Strength:** Strengthening your core muscles is crucial for back support. Exercises like planks, bird dogs, and gentle abdominal contractions can help stabilize your spine.\n",
       "*   **Listen to Your Body:** If you feel any pain in your back during exercise, stop immediately! Don't push through the pain.\n",
       "*   **Hydration:** Staying well-hydrated helps keep your muscles and joints lubricated, which is important for recovery and injury prevention.\n",
       "*   **Rest and Recovery:** Don't overtrain! Give your muscles (and your back!) adequate time to rest and recover between workouts.\n",
       "\n",
       "Before making any significant changes to your diet or exercise routine, especially given your back pain, it's always a good idea to consult with a doctor or physical therapist. They can help you create a plan that's safe and effective for you.\n",
       "\n",
       "Do you want to continue discussing? (yes/no)\n"
      ],
      "text/plain": [
       "<IPython.core.display.Markdown object>"
      ]
     },
     "metadata": {},
     "output_type": "display_data"
    },
    {
     "name": "stdout",
     "output_type": "stream",
     "text": [
      "User (yes/no):  Overall though, I just want to eat healthy\n"
     ]
    },
    {
     "name": "stdout",
     "output_type": "stream",
     "text": [
      "AI Diet Reccomender: Sorry, I didn't quite catch that. Please type 'yes' to continue or 'no' to stop.\n"
     ]
    },
    {
     "name": "stdout",
     "output_type": "stream",
     "text": [
      "User (yes/no):  yes\n",
      "AI Diet Reccomender: Okay, what else is on your mind regarding this? Or what details would you like to discuss?\n",
      "User:  I just want to eat healthy in general\n"
     ]
    },
    {
     "data": {
      "text/markdown": [
       "**AI Diet Reccomender:**\n",
       "Okay, great! Focusing on healthy eating in general is a fantastic way to support your overall well-being, and it can definitely play a role in managing back pain indirectly. Think of it as building a stronger foundation for your body to heal and function better.\n",
       "\n",
       "When we talk about healthy eating, it's more than just \"dieting.\" It's about establishing sustainable habits. This usually involves a balanced intake of:\n",
       "\n",
       "*   **Fruits and Vegetables:** Aim for a rainbow of colors to get a variety of vitamins, minerals, and antioxidants. These can help reduce inflammation in the body, which might ease your back pain.\n",
       "*   **Lean Proteins:** Important for muscle repair and building, which is crucial for supporting your back. Good sources include fish, poultry, beans, lentils, and tofu.\n",
       "*   **Whole Grains:** Provide sustained energy and fiber, which helps with digestion and weight management. Opt for brown rice, quinoa, oats, and whole-wheat bread over processed grains.\n",
       "*   **Healthy Fats:** Essential for hormone production and overall health. Choose sources like avocados, nuts, seeds, and olive oil.\n",
       "\n",
       "It's also important to limit processed foods, sugary drinks, and excessive amounts of unhealthy fats. Hydration is also key – drink plenty of water throughout the day.\n",
       "\n",
       "Since you mentioned back pain initially, it's worth remembering that maintaining a healthy weight is really important. Extra weight can put strain on your back. Also, certain nutrients like calcium and Vitamin D are vital for bone health, which can affect back pain as well.\n",
       "\n",
       "Remember, I'm not a medical professional, so it's always best to consult with your doctor or a registered dietitian for personalized advice. They can help you create a meal plan that's tailored to your specific needs and health conditions.\n",
       "\n",
       "Do you want to continue discussing? (yes/no)\n"
      ],
      "text/plain": [
       "<IPython.core.display.Markdown object>"
      ]
     },
     "metadata": {},
     "output_type": "display_data"
    },
    {
     "name": "stdout",
     "output_type": "stream",
     "text": [
      "User (yes/no):  no\n"
     ]
    },
    {
     "name": "stdout",
     "output_type": "stream",
     "text": [
      "AI Diet Reccomender: Okay, sounds good! Remember, these are just general suggestions. Always consult with a healthcare professional or registered dietitian for personalized medical and dietary advice. Stay healthy!\n"
     ]
    }
   ],
   "source": [
    "# --- Main Chat Loop ---\n",
    "\n",
    "print(\"AI Diet Reccomender: Hi there! I'm your friendly meal planning assistant.\")\n",
    "print(\"AI Diet Reccomender: I can help suggest some foods based on health conditions.\")\n",
    "\n",
    "# Get initial problem\n",
    "initial_problem = input(\"AI Diet Reccomender: What's your problem or health condition? (e.g., 'back pain', 'high blood pressure')\\nUser: \")\n",
    "\n",
    "if initial_problem.strip():\n",
    "    # 1. Retrieve relevant documents\n",
    "    retrieved_docs = retrieve_relevant_documents(initial_problem)\n",
    "\n",
    "    # 2. Generate initial response\n",
    "    initial_response = generate_response(initial_problem, retrieved_docs)\n",
    "    display(Markdown(f\"**AI Diet Reccomender:**\\n{initial_response}\")) # Use Markdown for better formatting\n",
    "\n",
    "    # 3. Handle follow-up conversation\n",
    "    while True:\n",
    "        follow_up_decision = input(\"User (yes/no): \").strip().lower()\n",
    "\n",
    "        if follow_up_decision == \"yes\":\n",
    "            further_input = input(\"AI Diet Reccomender: Okay, what else is on your mind regarding this? Or what details would you like to discuss?\\nUser: \")\n",
    "\n",
    "            if further_input.strip():\n",
    "                # Construct a conversational prompt for follow-up\n",
    "                # We can reuse retrieval or just let Gemini handle conversationally\n",
    "                # For simplicity here, let Gemini continue based on the new input + initial context\n",
    "\n",
    "                follow_up_prompt = f\"\"\"You are a friendly AI personal diet planner continuing a conversation.\n",
    "\n",
    "                The user's initial problem was: \"{initial_problem}\"\n",
    "                They previously received some recommendations and now want to discuss further.\n",
    "\n",
    "                Their latest input is: \"{further_input}\"\n",
    "\n",
    "                Instructions:\n",
    "                1. Respond helpfully and conversationally to the user's latest input, keeping the initial problem in mind.\n",
    "                2. Provide additional details, clarification, or answer related questions based on your general knowledge and the context of the initial problem (but prioritize safety and avoid giving medical advice).\n",
    "                3. Keep the tone friendly and supportive.\n",
    "                4. **Crucially:** After your response, ALWAYS ask: \"Do you want to continue discussing? (yes/no)\"\n",
    "\n",
    "                **Your Response:**\n",
    "                \"\"\"\n",
    "\n",
    "                try:\n",
    "                    follow_up_response = generative_model.generate_content(follow_up_prompt)\n",
    "                    display(Markdown(f\"**AI Diet Reccomender:**\\n{follow_up_response.text}\"))\n",
    "                except Exception as e:\n",
    "                    print(f\"Error generating follow-up response: {e}\")\n",
    "                    print(\"AI Diet Reccomender: Sorry, I had trouble processing that. Do you want to try asking differently? (yes/no)\")\n",
    "\n",
    "\n",
    "            else:\n",
    "                print(\"AI Diet Reccomender: It seems like you didn't type anything. Do you want to continue discussing? (yes/no)\")\n",
    "\n",
    "        elif follow_up_decision == \"no\":\n",
    "            print(\"AI Diet Reccomender: Okay, sounds good! Remember, these are just general suggestions. Always consult with a healthcare professional or registered dietitian for personalized medical and dietary advice. Stay healthy!\")\n",
    "            break\n",
    "        else:\n",
    "            print(\"AI Diet Reccomender: Sorry, I didn't quite catch that. Please type 'yes' to continue or 'no' to stop.\")\n",
    "\n",
    "else:\n",
    "    print(\"AI Diet Reccomender: It looks like you didn't specify a problem. If you change your mind, just run me again!\")"
   ]
  },
  {
   "cell_type": "markdown",
   "metadata": {},
   "source": [
    "## Limitations & Future Improvements\n",
    "\n",
    "- Limited Knowledge Base: The sample data in diet_data.py is very basic. A real application needs a comprehensive, medically validated database.\n",
    "- No Real-time Data: Doesn't access external, up-to-the-minute medical information.\n",
    "- Basic RAG: Retrieval is based on simple similarity. More advanced techniques could improve relevance.\n",
    "- No User Profiles: Doesn't store user history, allergies, or preferences across sessions.\n",
    "- Safety: While basic prompts guide the AI, more robust safety layers and content filtering would be needed for a production app.\n",
    "- Error Handling: Basic error handling is included, but could be more comprehensive."
   ]
  },
  {
   "cell_type": "markdown",
   "metadata": {},
   "source": [
    "This setup gives us a functional prototype. Again, **It is NOT a substitute for professional medical or dietary advice.**\n",
    "Play around and tinker with your own version of this RAG by copying this notebook. Let me know if you have any questions or suggestions for improvements!\n",
    "\n",
    "- [LinkedIn](https://www.linkedin.com/in/robert-modalo-78b97580)\n",
    "- [Medium](https://medium.com/@robertmodalo2)\n",
    "- [GitHub](https://github.com/robertmodalocodes)"
   ]
  }
 ],
 "metadata": {
  "kaggle": {
   "accelerator": "none",
   "dataSources": [
    {
     "sourceId": 97258,
     "sourceType": "competition"
    }
   ],
   "dockerImageVersionId": 31012,
   "isGpuEnabled": false,
   "isInternetEnabled": true,
   "language": "python",
   "sourceType": "notebook"
  },
  "kernelspec": {
   "display_name": "Python 3",
   "language": "python",
   "name": "python3"
  },
  "language_info": {
   "codemirror_mode": {
    "name": "ipython",
    "version": 3
   },
   "file_extension": ".py",
   "mimetype": "text/x-python",
   "name": "python",
   "nbconvert_exporter": "python",
   "pygments_lexer": "ipython3",
   "version": "3.11.11"
  }
 },
 "nbformat": 4,
 "nbformat_minor": 4
}
